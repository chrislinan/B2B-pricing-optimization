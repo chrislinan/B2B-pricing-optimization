{
 "cells": [
  {
   "cell_type": "markdown",
   "metadata": {
    "id": "7TlaLhhWGeKU"
   },
   "source": [
    "# **Lecture 6: B2B Pricing**\n",
    "Olivier Rubel, PhD\n",
    "\n",
    "Associate Professor of Marketing and Business Analytics\n",
    "\n",
    "UC Davis\n",
    "\n",
    "Analytical Decision Making -- MSBA Program\n",
    "\n",
    "\n",
    "Date: May 5th, 2021\n",
    "\n",
    "\n",
    "\n",
    "00. From last week \n",
    "0. B2B Pricing: an Introduction  \n",
    "1. Load Data\n",
    "2.   Rename Variables\n",
    "3.   Plot Win/Lost per Category\n",
    "4.   Logistic Regression\n",
    "5.   Optimization Approach 1\n",
    "6.   Optimization Approach 2\n",
    "7.   Optimization Approach 3\n",
    "8.   Optimization Approach 4\n",
    "9.   Revenue Implications\n",
    "10. We can do better, how?\n",
    "\n",
    "Some links:\n",
    "\n",
    "https://hbr.org/2018/06/a-survey-of-1700-companies-reveals-common-b2b-pricing-mistakes\n",
    "\n",
    "https://www.mckinsey.com/business-functions/marketing-and-sales/our-insights/what-really-matters-in-b2b-dynamic-pricing\n",
    "\n",
    "\n",
    "\n"
   ]
  },
  {
   "cell_type": "markdown",
   "metadata": {
    "id": "qXI27V5AzVXX"
   },
   "source": [
    "# **From Last Week**\n",
    "\n",
    "## Response Curve form the Normal Distribution\n",
    "Let's assume that the pdf of the willingness to pay is Normally distributed, i.e., with mean and variance $\\mu$ and $\\sigma^2$, respectively. \n",
    "\n",
    "\\begin{equation}\n",
    "w(p)\\sim N\\left(\\mu,\\sigma^2\\right)\n",
    "\\end{equation}\n",
    "\n",
    "Market research revealed that the market potential is $M$. Customers who will buy the product are those whose willingness to pay for the product is greater than the posted price, $p$, such that.\n",
    "\n",
    "\\begin{equation}\n",
    "d(p)=M \\times \\left[1-\\Phi\\left( \\frac{p-\\mu}{\\sigma}  \\right)\\right]\n",
    "\\end{equation}\n",
    "\n",
    "The optimization problem is then to choose the price $p^*$ that will maximize profit.\n",
    "\\begin{equation}\n",
    "\\text{Maximize}_p\\quad d(p)\\times (p-c)=M\\times \\left[1-\\Phi\\left( \\frac{p-\\mu}{\\sigma}  \\right)\\right] \\times (p-c)\n",
    "\\end{equation}\n",
    "where $c$ is the variable cost.\n",
    "\n",
    "Recall that the CDF of the Normal distribution is \n",
    "\\begin{equation}\n",
    "\\frac{1}{2} \\times \\left[1+erf\\left( \\frac{p-\\mu}{\\sigma \\sqrt{2}}   \\right)   \\right]\n",
    "\\end{equation}"
   ]
  },
  {
   "cell_type": "code",
   "execution_count": 1,
   "metadata": {
    "colab": {
     "base_uri": "https://localhost:8080/",
     "height": 265
    },
    "id": "VZBcwNQ7zbXj",
    "outputId": "14caa0a4-9b79-46fa-97e3-41c624c7ea55"
   },
   "outputs": [
    {
     "output_type": "error",
     "ename": "ImportError",
     "evalue": "\nImporting the multiarray numpy extension module failed.  Most\nlikely you are trying to import a failed build of numpy.\nIf you're working with a numpy git repo, try `git clean -xdf` (removes all\nfiles not under version control).  Otherwise reinstall numpy.\n",
     "traceback": [
      "\u001b[1;31m---------------------------------------------------------------------------\u001b[0m",
      "\u001b[1;31mImportError\u001b[0m                               Traceback (most recent call last)",
      "\u001b[1;32mD:\\Anaconda3\\lib\\site-packages\\numpy\\core\\__init__.py\u001b[0m in \u001b[0;36m<module>\u001b[1;34m()\u001b[0m\n\u001b[0;32m     15\u001b[0m \u001b[1;32mtry\u001b[0m\u001b[1;33m:\u001b[0m\u001b[1;33m\u001b[0m\u001b[0m\n\u001b[1;32m---> 16\u001b[1;33m     \u001b[1;32mfrom\u001b[0m \u001b[1;33m.\u001b[0m \u001b[1;32mimport\u001b[0m \u001b[0mmultiarray\u001b[0m\u001b[1;33m\u001b[0m\u001b[0m\n\u001b[0m\u001b[0;32m     17\u001b[0m \u001b[1;32mexcept\u001b[0m \u001b[0mImportError\u001b[0m\u001b[1;33m:\u001b[0m\u001b[1;33m\u001b[0m\u001b[0m\n",
      "\u001b[1;31mImportError\u001b[0m: DLL load failed: 找不到指定的模块。",
      "\nDuring handling of the above exception, another exception occurred:\n",
      "\u001b[1;31mImportError\u001b[0m                               Traceback (most recent call last)",
      "\u001b[1;32m<ipython-input-1-26d4f940e730>\u001b[0m in \u001b[0;36m<module>\u001b[1;34m()\u001b[0m\n\u001b[1;32m----> 1\u001b[1;33m \u001b[1;32mimport\u001b[0m \u001b[0mmatplotlib\u001b[0m\u001b[1;33m.\u001b[0m\u001b[0mpyplot\u001b[0m \u001b[1;32mas\u001b[0m \u001b[0mplt\u001b[0m\u001b[1;31m#\u001b[0m\u001b[1;33m\u001b[0m\u001b[0m\n\u001b[0m\u001b[0;32m      2\u001b[0m \u001b[1;32mimport\u001b[0m \u001b[0mnumpy\u001b[0m \u001b[1;32mas\u001b[0m \u001b[0mnp\u001b[0m\u001b[1;33m\u001b[0m\u001b[0m\n\u001b[0;32m      3\u001b[0m \u001b[1;32mimport\u001b[0m \u001b[0mmath\u001b[0m\u001b[1;33m\u001b[0m\u001b[0m\n\u001b[0;32m      4\u001b[0m \u001b[1;32mimport\u001b[0m \u001b[0mscipy\u001b[0m\u001b[1;33m\u001b[0m\u001b[0m\n\u001b[0;32m      5\u001b[0m \u001b[1;32mimport\u001b[0m \u001b[0mscipy\u001b[0m\u001b[1;33m.\u001b[0m\u001b[0mstats\u001b[0m \u001b[1;32mas\u001b[0m \u001b[0mstats\u001b[0m\u001b[1;33m\u001b[0m\u001b[0m\n",
      "\u001b[1;32mD:\\Anaconda3\\lib\\site-packages\\matplotlib\\__init__.py\u001b[0m in \u001b[0;36m<module>\u001b[1;34m()\u001b[0m\n\u001b[0;32m    120\u001b[0m \u001b[1;31m# cbook must import matplotlib only within function\u001b[0m\u001b[1;33m\u001b[0m\u001b[1;33m\u001b[0m\u001b[0m\n\u001b[0;32m    121\u001b[0m \u001b[1;31m# definitions, so it is safe to import from it here.\u001b[0m\u001b[1;33m\u001b[0m\u001b[1;33m\u001b[0m\u001b[0m\n\u001b[1;32m--> 122\u001b[1;33m \u001b[1;32mfrom\u001b[0m \u001b[0mmatplotlib\u001b[0m\u001b[1;33m.\u001b[0m\u001b[0mcbook\u001b[0m \u001b[1;32mimport\u001b[0m \u001b[0mis_string_like\u001b[0m\u001b[1;33m,\u001b[0m \u001b[0mmplDeprecation\u001b[0m\u001b[1;33m,\u001b[0m \u001b[0mdedent\u001b[0m\u001b[1;33m,\u001b[0m \u001b[0mget_label\u001b[0m\u001b[1;33m\u001b[0m\u001b[0m\n\u001b[0m\u001b[0;32m    123\u001b[0m \u001b[1;32mfrom\u001b[0m \u001b[0mmatplotlib\u001b[0m\u001b[1;33m.\u001b[0m\u001b[0mcompat\u001b[0m \u001b[1;32mimport\u001b[0m \u001b[0msubprocess\u001b[0m\u001b[1;33m\u001b[0m\u001b[0m\n\u001b[0;32m    124\u001b[0m from matplotlib.rcsetup import (defaultParams,\n",
      "\u001b[1;32mD:\\Anaconda3\\lib\\site-packages\\matplotlib\\cbook.py\u001b[0m in \u001b[0;36m<module>\u001b[1;34m()\u001b[0m\n\u001b[0;32m     30\u001b[0m \u001b[1;32mfrom\u001b[0m \u001b[0mweakref\u001b[0m \u001b[1;32mimport\u001b[0m \u001b[0mref\u001b[0m\u001b[1;33m,\u001b[0m \u001b[0mWeakKeyDictionary\u001b[0m\u001b[1;33m\u001b[0m\u001b[0m\n\u001b[0;32m     31\u001b[0m \u001b[1;33m\u001b[0m\u001b[0m\n\u001b[1;32m---> 32\u001b[1;33m \u001b[1;32mimport\u001b[0m \u001b[0mnumpy\u001b[0m \u001b[1;32mas\u001b[0m \u001b[0mnp\u001b[0m\u001b[1;33m\u001b[0m\u001b[0m\n\u001b[0m\u001b[0;32m     33\u001b[0m \u001b[1;32mimport\u001b[0m \u001b[0mnumpy\u001b[0m\u001b[1;33m.\u001b[0m\u001b[0mma\u001b[0m \u001b[1;32mas\u001b[0m \u001b[0mma\u001b[0m\u001b[1;33m\u001b[0m\u001b[0m\n\u001b[0;32m     34\u001b[0m \u001b[1;33m\u001b[0m\u001b[0m\n",
      "\u001b[1;32mD:\\Anaconda3\\lib\\site-packages\\numpy\\__init__.py\u001b[0m in \u001b[0;36m<module>\u001b[1;34m()\u001b[0m\n\u001b[0;32m    140\u001b[0m         \u001b[1;32mreturn\u001b[0m \u001b[0mloader\u001b[0m\u001b[1;33m(\u001b[0m\u001b[1;33m*\u001b[0m\u001b[0mpackages\u001b[0m\u001b[1;33m,\u001b[0m \u001b[1;33m**\u001b[0m\u001b[0moptions\u001b[0m\u001b[1;33m)\u001b[0m\u001b[1;33m\u001b[0m\u001b[0m\n\u001b[0;32m    141\u001b[0m \u001b[1;33m\u001b[0m\u001b[0m\n\u001b[1;32m--> 142\u001b[1;33m     \u001b[1;32mfrom\u001b[0m \u001b[1;33m.\u001b[0m \u001b[1;32mimport\u001b[0m \u001b[0madd_newdocs\u001b[0m\u001b[1;33m\u001b[0m\u001b[0m\n\u001b[0m\u001b[0;32m    143\u001b[0m     __all__ = ['add_newdocs',\n\u001b[0;32m    144\u001b[0m                \u001b[1;34m'ModuleDeprecationWarning'\u001b[0m\u001b[1;33m,\u001b[0m\u001b[1;33m\u001b[0m\u001b[0m\n",
      "\u001b[1;32mD:\\Anaconda3\\lib\\site-packages\\numpy\\add_newdocs.py\u001b[0m in \u001b[0;36m<module>\u001b[1;34m()\u001b[0m\n\u001b[0;32m     11\u001b[0m \u001b[1;32mfrom\u001b[0m \u001b[0m__future__\u001b[0m \u001b[1;32mimport\u001b[0m \u001b[0mdivision\u001b[0m\u001b[1;33m,\u001b[0m \u001b[0mabsolute_import\u001b[0m\u001b[1;33m,\u001b[0m \u001b[0mprint_function\u001b[0m\u001b[1;33m\u001b[0m\u001b[0m\n\u001b[0;32m     12\u001b[0m \u001b[1;33m\u001b[0m\u001b[0m\n\u001b[1;32m---> 13\u001b[1;33m \u001b[1;32mfrom\u001b[0m \u001b[0mnumpy\u001b[0m\u001b[1;33m.\u001b[0m\u001b[0mlib\u001b[0m \u001b[1;32mimport\u001b[0m \u001b[0madd_newdoc\u001b[0m\u001b[1;33m\u001b[0m\u001b[0m\n\u001b[0m\u001b[0;32m     14\u001b[0m \u001b[1;33m\u001b[0m\u001b[0m\n\u001b[0;32m     15\u001b[0m \u001b[1;31m###############################################################################\u001b[0m\u001b[1;33m\u001b[0m\u001b[1;33m\u001b[0m\u001b[0m\n",
      "\u001b[1;32mD:\\Anaconda3\\lib\\site-packages\\numpy\\lib\\__init__.py\u001b[0m in \u001b[0;36m<module>\u001b[1;34m()\u001b[0m\n\u001b[0;32m      6\u001b[0m \u001b[1;32mfrom\u001b[0m \u001b[0mnumpy\u001b[0m\u001b[1;33m.\u001b[0m\u001b[0mversion\u001b[0m \u001b[1;32mimport\u001b[0m \u001b[0mversion\u001b[0m \u001b[1;32mas\u001b[0m \u001b[0m__version__\u001b[0m\u001b[1;33m\u001b[0m\u001b[0m\n\u001b[0;32m      7\u001b[0m \u001b[1;33m\u001b[0m\u001b[0m\n\u001b[1;32m----> 8\u001b[1;33m \u001b[1;32mfrom\u001b[0m \u001b[1;33m.\u001b[0m\u001b[0mtype_check\u001b[0m \u001b[1;32mimport\u001b[0m \u001b[1;33m*\u001b[0m\u001b[1;33m\u001b[0m\u001b[0m\n\u001b[0m\u001b[0;32m      9\u001b[0m \u001b[1;32mfrom\u001b[0m \u001b[1;33m.\u001b[0m\u001b[0mindex_tricks\u001b[0m \u001b[1;32mimport\u001b[0m \u001b[1;33m*\u001b[0m\u001b[1;33m\u001b[0m\u001b[0m\n\u001b[0;32m     10\u001b[0m \u001b[1;32mfrom\u001b[0m \u001b[1;33m.\u001b[0m\u001b[0mfunction_base\u001b[0m \u001b[1;32mimport\u001b[0m \u001b[1;33m*\u001b[0m\u001b[1;33m\u001b[0m\u001b[0m\n",
      "\u001b[1;32mD:\\Anaconda3\\lib\\site-packages\\numpy\\lib\\type_check.py\u001b[0m in \u001b[0;36m<module>\u001b[1;34m()\u001b[0m\n\u001b[0;32m      9\u001b[0m            'common_type']\n\u001b[0;32m     10\u001b[0m \u001b[1;33m\u001b[0m\u001b[0m\n\u001b[1;32m---> 11\u001b[1;33m \u001b[1;32mimport\u001b[0m \u001b[0mnumpy\u001b[0m\u001b[1;33m.\u001b[0m\u001b[0mcore\u001b[0m\u001b[1;33m.\u001b[0m\u001b[0mnumeric\u001b[0m \u001b[1;32mas\u001b[0m \u001b[0m_nx\u001b[0m\u001b[1;33m\u001b[0m\u001b[0m\n\u001b[0m\u001b[0;32m     12\u001b[0m \u001b[1;32mfrom\u001b[0m \u001b[0mnumpy\u001b[0m\u001b[1;33m.\u001b[0m\u001b[0mcore\u001b[0m\u001b[1;33m.\u001b[0m\u001b[0mnumeric\u001b[0m \u001b[1;32mimport\u001b[0m \u001b[0masarray\u001b[0m\u001b[1;33m,\u001b[0m \u001b[0masanyarray\u001b[0m\u001b[1;33m,\u001b[0m \u001b[0marray\u001b[0m\u001b[1;33m,\u001b[0m \u001b[0misnan\u001b[0m\u001b[1;33m,\u001b[0m\u001b[0;31m \u001b[0m\u001b[0;31m\\\u001b[0m\u001b[1;33m\u001b[0m\u001b[0m\n\u001b[0;32m     13\u001b[0m                 \u001b[0mobj2sctype\u001b[0m\u001b[1;33m,\u001b[0m \u001b[0mzeros\u001b[0m\u001b[1;33m\u001b[0m\u001b[0m\n",
      "\u001b[1;32mD:\\Anaconda3\\lib\\site-packages\\numpy\\core\\__init__.py\u001b[0m in \u001b[0;36m<module>\u001b[1;34m()\u001b[0m\n\u001b[0;32m     22\u001b[0m files not under version control).  Otherwise reinstall numpy.\n\u001b[0;32m     23\u001b[0m \"\"\"\n\u001b[1;32m---> 24\u001b[1;33m     \u001b[1;32mraise\u001b[0m \u001b[0mImportError\u001b[0m\u001b[1;33m(\u001b[0m\u001b[0mmsg\u001b[0m\u001b[1;33m)\u001b[0m\u001b[1;33m\u001b[0m\u001b[0m\n\u001b[0m\u001b[0;32m     25\u001b[0m \u001b[1;33m\u001b[0m\u001b[0m\n\u001b[0;32m     26\u001b[0m \u001b[1;32mfor\u001b[0m \u001b[0menvkey\u001b[0m \u001b[1;32min\u001b[0m \u001b[0menv_added\u001b[0m\u001b[1;33m:\u001b[0m\u001b[1;33m\u001b[0m\u001b[0m\n",
      "\u001b[1;31mImportError\u001b[0m: \nImporting the multiarray numpy extension module failed.  Most\nlikely you are trying to import a failed build of numpy.\nIf you're working with a numpy git repo, try `git clean -xdf` (removes all\nfiles not under version control).  Otherwise reinstall numpy.\n"
     ]
    }
   ],
   "source": [
    "import matplotlib.pyplot as plt#\n",
    "import numpy as np\n",
    "import math\n",
    "import scipy\n",
    "import scipy.stats as stats\n",
    "import math\n",
    "mu = 15\n",
    "variance = 16\n",
    "sigma = math.sqrt(variance)\n",
    "x = np.linspace(mu - 4*sigma, mu + 4*sigma, 100)\n",
    "plt.plot(x, stats.norm.pdf(x, mu, sigma))\n",
    "plt.show()"
   ]
  },
  {
   "cell_type": "code",
   "execution_count": 2,
   "metadata": {
    "colab": {
     "base_uri": "https://localhost:8080/"
    },
    "id": "da6It4E3zjeA",
    "outputId": "b008bb0c-29c6-4dbb-b27e-79cdffd2c913"
   },
   "outputs": [
    {
     "name": "stdout",
     "output_type": "stream",
     "text": [
      "401833\n",
      "24\n"
     ]
    }
   ],
   "source": [
    "## Homogeneous Segment\n",
    "import math\n",
    "import numpy as np\n",
    "from math import *\n",
    "from scipy.optimize import minimize_scalar\n",
    "c=10 # Marginal cost\n",
    "mu=15 # mu\n",
    "sigma=16 # Sigma\n",
    "M=100000 # Market size\n",
    "def profit(p):\n",
    "    \"\"\"This is the negative profit function\"\"\"\n",
    "    return -M*(1-0.5*(1+erf((p-mu)/(sigma*math.sqrt(2)))))*(p-c)#Note the minus sign because of routine is coded as a minimization\n",
    "res = minimize_scalar(profit) # The routine is coded as mininization\n",
    "print(-round(res.fun)) # Return the profit level at the optimal price. Note that here I am rounding the results\n",
    "print(round(res.x)) # This is the optimal price"
   ]
  },
  {
   "cell_type": "code",
   "execution_count": 3,
   "metadata": {
    "colab": {
     "base_uri": "https://localhost:8080/",
     "height": 265
    },
    "id": "6hQ4K-YVzv27",
    "outputId": "cf9cdd3e-a390-4254-ef55-9fa1b0d553d2"
   },
   "outputs": [
    {
     "data": {
      "image/png": "[encoded data removed]",
      "text/plain": [
       "<Figure size 432x288 with 1 Axes>"
      ]
     },
     "metadata": {
      "needs_background": "light",
      "tags": []
     },
     "output_type": "display_data"
    }
   ],
   "source": [
    "import matplotlib.pyplot as plt\n",
    "import numpy as np\n",
    "import matplotlib.mlab as mlab\n",
    "import math\n",
    "mu1, mu2 = 15, 22\n",
    "variance1,variance2 = 16, 30\n",
    "sigma1 = math.sqrt(variance1)\n",
    "sigma2 = math.sqrt(variance2)\n",
    "x = np.linspace(mu1 - 4*sigma1, mu1 + 4*sigma1, 100)\n",
    "plt.plot(x,stats.norm.pdf(x, mu1, sigma1))\n",
    "plt.plot(x,stats.norm.pdf(x, mu2, sigma2))\n",
    "plt.show()"
   ]
  },
  {
   "cell_type": "code",
   "execution_count": 4,
   "metadata": {
    "colab": {
     "base_uri": "https://localhost:8080/"
    },
    "id": "piYZQlZpzzqU",
    "outputId": "3c762b0a-24ed-481b-be90-a05e2b3154d7"
   },
   "outputs": [
    {
     "name": "stdout",
     "output_type": "stream",
     "text": [
      "9.756085715455209\n",
      "[17.65310055 30.44643962]\n"
     ]
    }
   ],
   "source": [
    "## Two Segments; two different prices\n",
    "## there are two segments of proportion alpha and 1-alpha, with wtp that are normally distributed with vector mu and sigma\n",
    "import math\n",
    "import numpy as np\n",
    "from math import *\n",
    "from scipy.optimize import minimize_scalar\n",
    "from scipy.optimize import minimize\n",
    "mu=np.array([15,22])\n",
    "sigma=np.array([16,30])\n",
    "alpha=.5#\n",
    "c=0\n",
    "M=1\n",
    "def profit2(p):\n",
    "    \"\"\"Profit \"\"\"\n",
    "    return -alpha*((1-0.5*(1+erf((p[0]-mu[0])/(sigma[0]*math.sqrt(2)))))*\\\n",
    "                       (p[0]-c))-\\\n",
    "                       (1-alpha)*((1-0.5*(1+erf((p[1]-mu[1])/(sigma[1]*math.sqrt(2)))))*\\\n",
    "                       (p[1]-c))\n",
    "sol2=minimize(profit2, [0.1, 0.1], method=\"BFGS\")\n",
    "print(-sol2.fun)\n",
    "print(sol2.x)"
   ]
  },
  {
   "cell_type": "markdown",
   "metadata": {
    "id": "0YGbOqM7FTqJ"
   },
   "source": [
    "# **B2B Pricing**\n",
    "\n",
    "B2B Data from a firm selling a marketing automation software. \n",
    "\n",
    "Two main channels are used to sell, i.e., (1) directly after lead generation efforts (e.g., trade-shows, email marketing campaign, website of the company) and (2) indirectly through \"partners\".\n",
    "\n",
    "The company has two types of \"products\", i.e., (1) cloud products and (2) \"on-premise\" products\n",
    "\n",
    "The data set has information about:\n",
    "\n",
    "\n",
    "1.   Dates at which each lead was generated and closed\n",
    "2.   Whether it's a \"new logo\" or not\n",
    "3.   Type of product sought\n",
    "4.   Deal was won or lost\n",
    "5.   Billing plan (e.g., one year vs. three years)\n",
    "6.   Annual Contract Value (ACV)\n",
    "7.   Amount\n",
    "8.   Discount\n",
    "9.   Net Amount (i.e., amoumt - discount)\n",
    "\n",
    "\n",
    "\n"
   ]
  },
  {
   "cell_type": "markdown",
   "metadata": {
    "id": "VPWO69iF6DPZ"
   },
   "source": [
    "# Questions from the sales operations manager:\n",
    "\n",
    "\n",
    "\n",
    "*   Hypothesis: partner type opportunities have higher ACV, i.e., they sign more multi-year contracts compared to direct type leads. Is that true?\n",
    "*   Does partner opportunities (lead source) have different characteritics (higher ACV, higher close rates) than other opportunities?\n",
    "* Assume calendar quarters (e.g., Q1-Jan-March, etc), do we see differnt behaviors across quarters?\n",
    "* Is there a relationship between end of the quarter and key metrics, like discounts?"
   ]
  },
  {
   "cell_type": "code",
   "execution_count": 5,
   "metadata": {
    "colab": {
     "base_uri": "https://localhost:8080/",
     "height": 198
    },
    "id": "q9AAsFdGGdIv",
    "outputId": "49e7ae89-3d1d-474b-9f13-f27f958ea951"
   },
   "outputs": [
    {
     "data": {
      "text/html": [
       "<div>\n",
       "<style scoped>\n",
       "    .dataframe tbody tr th:only-of-type {\n",
       "        vertical-align: middle;\n",
       "    }\n",
       "\n",
       "    .dataframe tbody tr th {\n",
       "        vertical-align: top;\n",
       "    }\n",
       "\n",
       "    .dataframe thead th {\n",
       "        text-align: right;\n",
       "    }\n",
       "</style>\n",
       "<table border=\"1\" class=\"dataframe\">\n",
       "  <thead>\n",
       "    <tr style=\"text-align: right;\">\n",
       "      <th></th>\n",
       "      <th>ID</th>\n",
       "      <th>Close Date</th>\n",
       "      <th>Created Date</th>\n",
       "      <th>New Logo</th>\n",
       "      <th>Type</th>\n",
       "      <th>Stage</th>\n",
       "      <th>Billing Plan</th>\n",
       "      <th>ACV</th>\n",
       "      <th>Discount Amount</th>\n",
       "      <th>Amount</th>\n",
       "      <th>Net Amount</th>\n",
       "    </tr>\n",
       "  </thead>\n",
       "  <tbody>\n",
       "    <tr>\n",
       "      <th>0</th>\n",
       "      <td>1</td>\n",
       "      <td>5/26/17</td>\n",
       "      <td>5/4/17</td>\n",
       "      <td>1</td>\n",
       "      <td>Direct - Cloud Product</td>\n",
       "      <td>Closed Lost</td>\n",
       "      <td>3 Years</td>\n",
       "      <td>431370</td>\n",
       "      <td></td>\n",
       "      <td>225000</td>\n",
       "      <td>225000</td>\n",
       "    </tr>\n",
       "    <tr>\n",
       "      <th>1</th>\n",
       "      <td>2</td>\n",
       "      <td>12/29/16</td>\n",
       "      <td>11/29/16</td>\n",
       "      <td>1</td>\n",
       "      <td>Partner - OnPremise Product</td>\n",
       "      <td>Closed Won - Paid</td>\n",
       "      <td>3 Years</td>\n",
       "      <td>22050</td>\n",
       "      <td>80850</td>\n",
       "      <td>147000</td>\n",
       "      <td>66150</td>\n",
       "    </tr>\n",
       "    <tr>\n",
       "      <th>2</th>\n",
       "      <td>3</td>\n",
       "      <td>12/29/16</td>\n",
       "      <td>12/9/16</td>\n",
       "      <td>1</td>\n",
       "      <td>Partner - Cloud Product</td>\n",
       "      <td>Closed Won - Paid</td>\n",
       "      <td>3 Years</td>\n",
       "      <td>32750</td>\n",
       "      <td>43200</td>\n",
       "      <td>96000</td>\n",
       "      <td>52800</td>\n",
       "    </tr>\n",
       "    <tr>\n",
       "      <th>3</th>\n",
       "      <td>4</td>\n",
       "      <td>9/9/16</td>\n",
       "      <td>4/20/16</td>\n",
       "      <td>1</td>\n",
       "      <td>Direct - Cloud Product</td>\n",
       "      <td>Closed Won - Paid</td>\n",
       "      <td>4 Years</td>\n",
       "      <td>36694</td>\n",
       "      <td>44800</td>\n",
       "      <td>128000</td>\n",
       "      <td>83200</td>\n",
       "    </tr>\n",
       "    <tr>\n",
       "      <th>4</th>\n",
       "      <td>5</td>\n",
       "      <td>9/22/16</td>\n",
       "      <td>9/1/16</td>\n",
       "      <td>1</td>\n",
       "      <td>Partner - OnPremise Product</td>\n",
       "      <td>Closed Won - Paid</td>\n",
       "      <td>3 Years</td>\n",
       "      <td>18700</td>\n",
       "      <td>9900</td>\n",
       "      <td>66000</td>\n",
       "      <td>56100</td>\n",
       "    </tr>\n",
       "  </tbody>\n",
       "</table>\n",
       "</div>"
      ],
      "text/plain": [
       "   ID Close Date Created Date  ...   Discount Amount   Amount   Net Amount \n",
       "0   1    5/26/17       5/4/17  ...                      225000       225000\n",
       "1   2   12/29/16     11/29/16  ...              80850   147000        66150\n",
       "2   3   12/29/16      12/9/16  ...              43200    96000        52800\n",
       "3   4     9/9/16      4/20/16  ...              44800   128000        83200\n",
       "4   5    9/22/16       9/1/16  ...               9900    66000        56100\n",
       "\n",
       "[5 rows x 11 columns]"
      ]
     },
     "execution_count": 5,
     "metadata": {
      "tags": []
     },
     "output_type": "execute_result"
    }
   ],
   "source": [
    "import matplotlib.pyplot as plt#\n",
    "import numpy as np\n",
    "import math\n",
    "import scipy\n",
    "import scipy.stats as stats\n",
    "from scipy.optimize import minimize_scalar\n",
    "from scipy.optimize import minimize\n",
    "from sklearn import preprocessing\n",
    "import seaborn as sns\n",
    "#sns.set(style=\"white\")\n",
    "#sns.set(style=\"whitegrid\", color_codes=True)\n",
    "import pandas as pd # Load Pandas which is a Python package to manipulate data; call it 'pd'\n",
    "import numpy as np # Load Numpy which is a Python package to manipulate to do math, call it 'np'\n",
    "url = 'data.csv' #This is the link to my github profile with the data\n",
    "df = pd.read_csv(url)#this load the data from the URL define above\n",
    "df.head() #just looking at the data\n",
    "#df['Stage'].unique()"
   ]
  },
  {
   "cell_type": "code",
   "execution_count": 6,
   "metadata": {
    "colab": {
     "base_uri": "https://localhost:8080/",
     "height": 331
    },
    "id": "zDBMBmslHQiD",
    "outputId": "316dcdaa-367b-4eee-d348-11d3b0233acd"
   },
   "outputs": [
    {
     "data": {
      "text/plain": [
       "Lost    971\n",
       "Won     534\n",
       "Name: Stage, dtype: int64"
      ]
     },
     "execution_count": 6,
     "metadata": {
      "tags": []
     },
     "output_type": "execute_result"
    },
    {
     "data": {
      "image/png": "[encoded data removed]",
      "text/plain": [
       "<Figure size 432x288 with 1 Axes>"
      ]
     },
     "metadata": {
      "needs_background": "light",
      "tags": []
     },
     "output_type": "display_data"
    }
   ],
   "source": [
    "# merge data on no condition\n",
    "df['Stage']=np.where(df['Stage'] =='Closed Lost', 'Lost', df['Stage'])\n",
    "df['Stage']=np.where(df['Stage'] =='Closed Won - Paid', 'Won', df['Stage'])\n",
    "df['Stage']=np.where(df['Stage'] =='Closed Won - Not Paid', 'Won', df['Stage'])\n",
    "df['Stage']=np.where(df['Stage'] =='Closed - Lost', 'Lost', df['Stage'])\n",
    "df['Stage']=np.where(df['Stage'] =='Closed Lost - Not Renewing', 'Lost', df['Stage'])\n",
    "sns.countplot(x='Stage',data=df)\n",
    "# merge 之后stage只有两种取值，lost和won\n",
    "df['Stage'].value_counts()"
   ]
  },
  {
   "cell_type": "code",
   "execution_count": 7,
   "metadata": {
    "colab": {
     "base_uri": "https://localhost:8080/"
    },
    "id": "JXvus9aoOGA3",
    "outputId": "703d5b1a-ce1e-42f6-9994-4a9a666c30c0"
   },
   "outputs": [
    {
     "data": {
      "text/plain": [
       "0.355"
      ]
     },
     "execution_count": 7,
     "metadata": {
      "tags": []
     },
     "output_type": "execute_result"
    }
   ],
   "source": [
    "#compute the aggregate conversion rate\n",
    "# 整体转化率，won占整体的比例\n",
    "count_Lost = len(df[df['Stage']=='Lost'])\n",
    "count_Won = len(df[df['Stage']=='Won'])\n",
    "round(count_Won/(count_Lost+count_Won),3)"
   ]
  },
  {
   "cell_type": "code",
   "execution_count": 9,
   "metadata": {
    "colab": {
     "base_uri": "https://localhost:8080/",
     "height": 295
    },
    "id": "uZpw2UGe8v76",
    "outputId": "a2afeb0a-4036-45b7-ff0f-abc352ab28d8"
   },
   "outputs": [
    {
     "data": {
      "image/png": "[encoded data removed]",
      "text/plain": [
       "<Figure size 432x288 with 1 Axes>"
      ]
     },
     "metadata": {
      "needs_background": "light",
      "tags": []
     },
     "output_type": "display_data"
    }
   ],
   "source": [
    "#display win/lost data for different channel/product configurations\n",
    "%matplotlib inline\n",
    "pd.crosstab(df.Type,df.Stage).plot(kind='barh')\n",
    "plt.title('Frequency Won/Lost')\n",
    "plt.xlabel('Direct vs. Partners')\n",
    "plt.ylabel('Frequency of Win/Lost')\n",
    "plt.savefig('WinLost')"
   ]
  },
  {
   "cell_type": "code",
   "execution_count": 10,
   "metadata": {
    "colab": {
     "base_uri": "https://localhost:8080/"
    },
    "id": "PkddDyrINu1i",
    "outputId": "305bdb78-4eeb-48d4-c37d-9965e70b32f6"
   },
   "outputs": [
    {
     "data": {
      "text/plain": [
       "array(['Direct - Cloud Product', 'Partner - OnPremise Product',\n",
       "       'Partner - Cloud Product', 'Direct - OnPremise Product'],\n",
       "      dtype=object)"
      ]
     },
     "execution_count": 10,
     "metadata": {
      "tags": []
     },
     "output_type": "execute_result"
    }
   ],
   "source": [
    "#provide the values for the variable \"Type\"\n",
    "# 查看Type有几种取值\n",
    "df['Type'].unique()"
   ]
  },
  {
   "cell_type": "code",
   "execution_count": 2,
   "metadata": {
    "id": "UWAbIoDDPBkZ"
   },
   "outputs": [
    {
     "output_type": "error",
     "ename": "NameError",
     "evalue": "name 'np' is not defined",
     "traceback": [
      "\u001b[1;31m---------------------------------------------------------------------------\u001b[0m",
      "\u001b[1;31mNameError\u001b[0m                                 Traceback (most recent call last)",
      "\u001b[1;32m<ipython-input-2-dbced35e39fd>\u001b[0m in \u001b[0;36m<module>\u001b[1;34m()\u001b[0m\n\u001b[0;32m      1\u001b[0m \u001b[1;31m#create binary variables\u001b[0m\u001b[1;33m\u001b[0m\u001b[1;33m\u001b[0m\u001b[0m\n\u001b[0;32m      2\u001b[0m \u001b[1;31m# 把原来的type一列展开 变成四列，用1或者0表示\u001b[0m\u001b[1;33m\u001b[0m\u001b[1;33m\u001b[0m\u001b[0m\n\u001b[1;32m----> 3\u001b[1;33m \u001b[0mdf\u001b[0m\u001b[1;33m[\u001b[0m\u001b[1;34m'Partner cloud'\u001b[0m\u001b[1;33m]\u001b[0m\u001b[1;33m=\u001b[0m\u001b[0mnp\u001b[0m\u001b[1;33m.\u001b[0m\u001b[0mwhere\u001b[0m\u001b[1;33m(\u001b[0m\u001b[0mdf\u001b[0m\u001b[1;33m[\u001b[0m\u001b[1;34m'Type'\u001b[0m\u001b[1;33m]\u001b[0m \u001b[1;33m==\u001b[0m\u001b[1;34m'Partner - Cloud Product'\u001b[0m\u001b[1;33m,\u001b[0m \u001b[1;36m1.0\u001b[0m\u001b[1;33m,\u001b[0m\u001b[1;36m0.0\u001b[0m\u001b[1;33m)\u001b[0m\u001b[1;33m\u001b[0m\u001b[0m\n\u001b[0m\u001b[0;32m      4\u001b[0m \u001b[0mdf\u001b[0m\u001b[1;33m[\u001b[0m\u001b[1;34m'Partner prem'\u001b[0m\u001b[1;33m]\u001b[0m\u001b[1;33m=\u001b[0m\u001b[0mnp\u001b[0m\u001b[1;33m.\u001b[0m\u001b[0mwhere\u001b[0m\u001b[1;33m(\u001b[0m\u001b[0mdf\u001b[0m\u001b[1;33m[\u001b[0m\u001b[1;34m'Type'\u001b[0m\u001b[1;33m]\u001b[0m \u001b[1;33m==\u001b[0m\u001b[1;34m'Partner - OnPremise Product'\u001b[0m\u001b[1;33m,\u001b[0m \u001b[1;36m1.0\u001b[0m\u001b[1;33m,\u001b[0m \u001b[1;36m0.0\u001b[0m\u001b[1;33m)\u001b[0m\u001b[1;33m\u001b[0m\u001b[0m\n\u001b[0;32m      5\u001b[0m \u001b[0mdf\u001b[0m\u001b[1;33m[\u001b[0m\u001b[1;34m'Direct cloud'\u001b[0m\u001b[1;33m]\u001b[0m\u001b[1;33m=\u001b[0m\u001b[0mnp\u001b[0m\u001b[1;33m.\u001b[0m\u001b[0mwhere\u001b[0m\u001b[1;33m(\u001b[0m\u001b[0mdf\u001b[0m\u001b[1;33m[\u001b[0m\u001b[1;34m'Type'\u001b[0m\u001b[1;33m]\u001b[0m \u001b[1;33m==\u001b[0m\u001b[1;34m'Direct - Cloud Product'\u001b[0m\u001b[1;33m,\u001b[0m \u001b[1;36m1.0\u001b[0m\u001b[1;33m,\u001b[0m\u001b[1;36m0.0\u001b[0m\u001b[1;33m)\u001b[0m\u001b[1;33m\u001b[0m\u001b[0m\n",
      "\u001b[1;31mNameError\u001b[0m: name 'np' is not defined"
     ]
    }
   ],
   "source": [
    "#create binary variables\n",
    "# 把原来的type一列展开 变成四列，用1或者0表示\n",
    "df['Partner cloud']=np.where(df['Type'] =='Partner - Cloud Product', 1.0,0.0)\n",
    "df['Partner prem']=np.where(df['Type'] =='Partner - OnPremise Product', 1.0, 0.0)\n",
    "df['Direct cloud']=np.where(df['Type'] =='Direct - Cloud Product', 1.0,0.0)\n",
    "df['Direct prem']=np.where(df['Type'] =='Direct - OnPremise Product', 1.0, 0.0)\n",
    "#making sure entries are numeric.\n",
    "df['amount']=pd.to_numeric(df[' Amount '],errors='coerce')\n",
    "df['net amount']=pd.to_numeric(df[' Net Amount '],errors='coerce')\n",
    "df['discount']=df['amount']-df['net amount']\n",
    "df['depth']=df['discount']/df['amount']\n",
    "df.drop(' Discount Amount ',axis=1)\n",
    "# 删掉这些列\n",
    "df.drop([' Discount Amount ',' ACV ',' Discount Amount ',' Amount ', ' Net Amount ', 'ID', 'Type'],axis=1).head()"
   ]
  },
  {
   "cell_type": "code",
   "execution_count": 12,
   "metadata": {
    "colab": {
     "base_uri": "https://localhost:8080/",
     "height": 198
    },
    "id": "hWYzBe6mkFT_",
    "outputId": "c19bec48-357b-44cf-a938-51b89507009f"
   },
   "outputs": [
    {
     "data": {
      "text/html": [
       "<div>\n",
       "<style scoped>\n",
       "    .dataframe tbody tr th:only-of-type {\n",
       "        vertical-align: middle;\n",
       "    }\n",
       "\n",
       "    .dataframe tbody tr th {\n",
       "        vertical-align: top;\n",
       "    }\n",
       "\n",
       "    .dataframe thead th {\n",
       "        text-align: right;\n",
       "    }\n",
       "</style>\n",
       "<table border=\"1\" class=\"dataframe\">\n",
       "  <thead>\n",
       "    <tr style=\"text-align: right;\">\n",
       "      <th></th>\n",
       "      <th>New Logo</th>\n",
       "      <th>amount</th>\n",
       "      <th>net amount</th>\n",
       "      <th>discount</th>\n",
       "      <th>depth</th>\n",
       "    </tr>\n",
       "    <tr>\n",
       "      <th>Type</th>\n",
       "      <th></th>\n",
       "      <th></th>\n",
       "      <th></th>\n",
       "      <th></th>\n",
       "      <th></th>\n",
       "    </tr>\n",
       "  </thead>\n",
       "  <tbody>\n",
       "    <tr>\n",
       "      <th>Direct - Cloud Product</th>\n",
       "      <td>0.72</td>\n",
       "      <td>109213.25</td>\n",
       "      <td>87843.81</td>\n",
       "      <td>21369.45</td>\n",
       "      <td>0.16</td>\n",
       "    </tr>\n",
       "    <tr>\n",
       "      <th>Direct - OnPremise Product</th>\n",
       "      <td>0.35</td>\n",
       "      <td>52366.70</td>\n",
       "      <td>44466.40</td>\n",
       "      <td>7900.30</td>\n",
       "      <td>0.06</td>\n",
       "    </tr>\n",
       "    <tr>\n",
       "      <th>Partner - Cloud Product</th>\n",
       "      <td>0.77</td>\n",
       "      <td>152230.87</td>\n",
       "      <td>120068.63</td>\n",
       "      <td>32162.24</td>\n",
       "      <td>0.18</td>\n",
       "    </tr>\n",
       "    <tr>\n",
       "      <th>Partner - OnPremise Product</th>\n",
       "      <td>0.41</td>\n",
       "      <td>75928.42</td>\n",
       "      <td>63234.93</td>\n",
       "      <td>12679.17</td>\n",
       "      <td>0.10</td>\n",
       "    </tr>\n",
       "  </tbody>\n",
       "</table>\n",
       "</div>"
      ],
      "text/plain": [
       "                             New Logo     amount  net amount  discount  depth\n",
       "Type                                                                         \n",
       "Direct - Cloud Product           0.72  109213.25    87843.81  21369.45   0.16\n",
       "Direct - OnPremise Product       0.35   52366.70    44466.40   7900.30   0.06\n",
       "Partner - Cloud Product          0.77  152230.87   120068.63  32162.24   0.18\n",
       "Partner - OnPremise Product      0.41   75928.42    63234.93  12679.17   0.10"
      ]
     },
     "execution_count": 12,
     "metadata": {
      "tags": []
     },
     "output_type": "execute_result"
    }
   ],
   "source": [
    "# 求每列的平均值，保留两位小数\n",
    "round(df.groupby('Type').mean().drop(['ID','Partner cloud', 'Partner prem', 'Direct cloud', 'Direct prem'],axis=1),2)"
   ]
  },
  {
   "cell_type": "code",
   "execution_count": 13,
   "metadata": {
    "colab": {
     "base_uri": "https://localhost:8080/"
    },
    "id": "B-W9K8fsB5cv",
    "outputId": "50b17932-bd29-424a-bee2-77580f2a4e7f"
   },
   "outputs": [
    {
     "name": "stderr",
     "output_type": "stream",
     "text": [
      "/usr/local/lib/python3.7/dist-packages/statsmodels/tools/_testing.py:19: FutureWarning: pandas.util.testing is deprecated. Use the functions in the public API at pandas.testing instead.\n",
      "  import pandas.util.testing as tm\n"
     ]
    },
    {
     "name": "stdout",
     "output_type": "stream",
     "text": [
      "                            OLS Regression Results                            \n",
      "==============================================================================\n",
      "Dep. Variable:                      y   R-squared:                       0.083\n",
      "Model:                            OLS   Adj. R-squared:                  0.082\n",
      "Method:                 Least Squares   F-statistic:                     65.61\n",
      "Date:                Thu, 06 May 2021   Prob (F-statistic):           5.26e-28\n",
      "Time:                        20:40:12   Log-Likelihood:                -938.56\n",
      "No. Observations:                1455   AIC:                             1883.\n",
      "Df Residuals:                    1452   BIC:                             1899.\n",
      "Df Model:                           2                                         \n",
      "Covariance Type:            nonrobust                                         \n",
      "==============================================================================\n",
      "                 coef    std err          t      P>|t|      [0.025      0.975]\n",
      "------------------------------------------------------------------------------\n",
      "const          0.3461      0.015     23.247      0.000       0.317       0.375\n",
      "amount     -3.458e-07   1.42e-07     -2.442      0.015   -6.24e-07    -6.8e-08\n",
      "discount    3.242e-06   3.49e-07      9.286      0.000    2.56e-06    3.93e-06\n",
      "==============================================================================\n",
      "Omnibus:                      547.569   Durbin-Watson:                   1.633\n",
      "Prob(Omnibus):                  0.000   Jarque-Bera (JB):              125.466\n",
      "Skew:                           0.475   Prob(JB):                     5.69e-28\n",
      "Kurtosis:                       1.919   Cond. No.                     1.95e+05\n",
      "==============================================================================\n",
      "\n",
      "Warnings:\n",
      "[1] Standard Errors assume that the covariance matrix of the errors is correctly specified.\n",
      "[2] The condition number is large, 1.95e+05. This might indicate that there are\n",
      "strong multicollinearity or other numerical problems.\n"
     ]
    }
   ],
   "source": [
    "import statsmodels.api as sm\n",
    "df['y']=np.where(df['Stage'] =='Won', 1.0,0.0)\n",
    "y=df['y'] # 因变量\n",
    "df['const']=1 # 常量列\n",
    "x1=df[['const','amount','discount']] # 自变量\n",
    "# ordinary least square 普通最小二乘法回归模型\n",
    "model1 = sm.OLS(y, x1, missing='drop')\n",
    "model1.fit\n",
    "type(model1)\n",
    "result1=model1.fit()\n",
    "# 输出模型摘要，coef就是回归系数\n",
    "print(result1.summary())"
   ]
  },
  {
   "cell_type": "markdown",
   "metadata": {
    "id": "6KEOCjbUnz-8"
   },
   "source": [
    "# **Mathematical Formulation**\n",
    "\n",
    "\\begin{equation}\n",
    "p(Y=1|x)=\\frac{e^{x'\\beta}}{1+e^{x'\\beta}}\n",
    "\\end{equation}\n",
    "\n",
    "In our case \n",
    "\\begin{equation}\n",
    "x'\\beta=\\beta_0+\\beta_1\\times \\text{Amount}+\\beta_2 \\times \\text{Discount}\n",
    "\\end{equation}\n",
    "\n",
    "\n",
    "source: https://www.statsmodels.org/stable/generated/statsmodels.discrete.discrete_model.Logit.cdf.html#statsmodels.discrete.discrete_model.Logit.cdf"
   ]
  },
  {
   "cell_type": "code",
   "execution_count": 14,
   "metadata": {
    "colab": {
     "base_uri": "https://localhost:8080/"
    },
    "id": "T-Ah5_U7s1sz",
    "outputId": "81e59f0b-6e12-47a5-a4de-1572418be4f2"
   },
   "outputs": [
    {
     "name": "stdout",
     "output_type": "stream",
     "text": [
      "Optimization terminated successfully.\n",
      "         Current function value: 0.545345\n",
      "         Iterations 8\n",
      "                           Logit Regression Results                           \n",
      "==============================================================================\n",
      "Dep. Variable:                      y   No. Observations:                 1455\n",
      "Model:                          Logit   Df Residuals:                     1452\n",
      "Method:                           MLE   Df Model:                            2\n",
      "Date:                Thu, 06 May 2021   Pseudo R-squ.:                  0.1694\n",
      "Time:                        20:40:16   Log-Likelihood:                -793.48\n",
      "converged:                       True   LL-Null:                       -955.34\n",
      "Covariance Type:            nonrobust   LLR p-value:                 5.048e-71\n",
      "==============================================================================\n",
      "                 coef    std err          z      P>|z|      [0.025      0.975]\n",
      "------------------------------------------------------------------------------\n",
      "const         -1.0442      0.090    -11.596      0.000      -1.221      -0.868\n",
      "amount     -2.239e-06    1.1e-06     -2.028      0.043    -4.4e-06    -7.5e-08\n",
      "discount    6.662e-05    5.5e-06     12.121      0.000    5.59e-05    7.74e-05\n",
      "==============================================================================\n"
     ]
    }
   ],
   "source": [
    "import statsmodels.api as sm\n",
    "df['y']=np.where(df['Stage'] =='Won', 1.0,0.0)\n",
    "y=df['y'] # 因变量\n",
    "df['const']=1 # 常量列\n",
    "x1=df[['const','amount','discount']] # 自变量\n",
    "# 逻辑回归\n",
    "model1 = sm.Logit(y, x1, missing='drop')\n",
    "model1.fit\n",
    "type(model1)\n",
    "result1=model1.fit()\n",
    "print(result1.summary())\n",
    "# 输出回归系数\n",
    "print(result1.params)"
   ]
  },
  {
   "cell_type": "markdown",
   "metadata": {
    "id": "q-uOLrElrY_E"
   },
   "source": [
    "# **Price Optimization**\n",
    "\n",
    "\n",
    "Using these results, I want to optimize on the price\n",
    "\n",
    "\\begin{equation}\n",
    "R(p)=Proba(Y=1|p,d) \\times (p-d)\n",
    "\\end{equation}"
   ]
  },
  {
   "cell_type": "code",
   "execution_count": 2,
   "metadata": {
    "colab": {
     "base_uri": "https://localhost:8080/"
    },
    "id": "ayTpbbeirXZs",
    "outputId": "3ab49f76-1f1e-4b2e-e9cb-52c294f3d401"
   },
   "outputs": [
    {
     "output_type": "error",
     "ename": "ImportError",
     "evalue": "\nImporting the multiarray numpy extension module failed.  Most\nlikely you are trying to import a failed build of numpy.\nIf you're working with a numpy git repo, try `git clean -xdf` (removes all\nfiles not under version control).  Otherwise reinstall numpy.\n",
     "traceback": [
      "\u001b[1;31m---------------------------------------------------------------------------\u001b[0m",
      "\u001b[1;31mImportError\u001b[0m                               Traceback (most recent call last)",
      "\u001b[1;32mD:\\Anaconda3\\lib\\site-packages\\numpy\\core\\__init__.py\u001b[0m in \u001b[0;36m<module>\u001b[1;34m()\u001b[0m\n\u001b[0;32m     15\u001b[0m \u001b[1;32mtry\u001b[0m\u001b[1;33m:\u001b[0m\u001b[1;33m\u001b[0m\u001b[0m\n\u001b[1;32m---> 16\u001b[1;33m     \u001b[1;32mfrom\u001b[0m \u001b[1;33m.\u001b[0m \u001b[1;32mimport\u001b[0m \u001b[0mmultiarray\u001b[0m\u001b[1;33m\u001b[0m\u001b[0m\n\u001b[0m\u001b[0;32m     17\u001b[0m \u001b[1;32mexcept\u001b[0m \u001b[0mImportError\u001b[0m\u001b[1;33m:\u001b[0m\u001b[1;33m\u001b[0m\u001b[0m\n",
      "\u001b[1;31mImportError\u001b[0m: DLL load failed: 找不到指定的模块。",
      "\nDuring handling of the above exception, another exception occurred:\n",
      "\u001b[1;31mImportError\u001b[0m                               Traceback (most recent call last)",
      "\u001b[1;32m<ipython-input-2-23c3d6b29140>\u001b[0m in \u001b[0;36m<module>\u001b[1;34m()\u001b[0m\n\u001b[0;32m      1\u001b[0m \u001b[1;31m#Price Optimization\u001b[0m\u001b[1;33m\u001b[0m\u001b[1;33m\u001b[0m\u001b[0m\n\u001b[1;32m----> 2\u001b[1;33m \u001b[1;32mfrom\u001b[0m \u001b[0mscipy\u001b[0m\u001b[1;33m.\u001b[0m\u001b[0moptimize\u001b[0m \u001b[1;32mimport\u001b[0m \u001b[0mminimize\u001b[0m\u001b[1;33m\u001b[0m\u001b[0m\n\u001b[0m\u001b[0;32m      3\u001b[0m \u001b[1;31m# 三个回归系数\u001b[0m\u001b[1;33m\u001b[0m\u001b[1;33m\u001b[0m\u001b[0m\n\u001b[0;32m      4\u001b[0m \u001b[0mb0\u001b[0m\u001b[1;33m=\u001b[0m\u001b[0mresult1\u001b[0m\u001b[1;33m.\u001b[0m\u001b[0mparams\u001b[0m\u001b[1;33m[\u001b[0m\u001b[1;36m0\u001b[0m\u001b[1;33m]\u001b[0m\u001b[1;33m\u001b[0m\u001b[0m\n\u001b[0;32m      5\u001b[0m \u001b[0mb1\u001b[0m\u001b[1;33m=\u001b[0m\u001b[0mresult1\u001b[0m\u001b[1;33m.\u001b[0m\u001b[0mparams\u001b[0m\u001b[1;33m[\u001b[0m\u001b[1;36m1\u001b[0m\u001b[1;33m]\u001b[0m\u001b[1;33m\u001b[0m\u001b[0m\n",
      "\u001b[1;32mD:\\Anaconda3\\lib\\site-packages\\scipy\\__init__.py\u001b[0m in \u001b[0;36m<module>\u001b[1;34m()\u001b[0m\n\u001b[0;32m     59\u001b[0m \u001b[0m__all__\u001b[0m \u001b[1;33m=\u001b[0m \u001b[1;33m[\u001b[0m\u001b[1;34m'test'\u001b[0m\u001b[1;33m]\u001b[0m\u001b[1;33m\u001b[0m\u001b[0m\n\u001b[0;32m     60\u001b[0m \u001b[1;33m\u001b[0m\u001b[0m\n\u001b[1;32m---> 61\u001b[1;33m \u001b[1;32mfrom\u001b[0m \u001b[0mnumpy\u001b[0m \u001b[1;32mimport\u001b[0m \u001b[0mshow_config\u001b[0m \u001b[1;32mas\u001b[0m \u001b[0mshow_numpy_config\u001b[0m\u001b[1;33m\u001b[0m\u001b[0m\n\u001b[0m\u001b[0;32m     62\u001b[0m \u001b[1;32mif\u001b[0m \u001b[0mshow_numpy_config\u001b[0m \u001b[1;32mis\u001b[0m \u001b[1;32mNone\u001b[0m\u001b[1;33m:\u001b[0m\u001b[1;33m\u001b[0m\u001b[0m\n\u001b[0;32m     63\u001b[0m     \u001b[1;32mraise\u001b[0m \u001b[0mImportError\u001b[0m\u001b[1;33m(\u001b[0m\u001b[1;34m\"Cannot import scipy when running from numpy source directory.\"\u001b[0m\u001b[1;33m)\u001b[0m\u001b[1;33m\u001b[0m\u001b[0m\n",
      "\u001b[1;32mD:\\Anaconda3\\lib\\site-packages\\numpy\\__init__.py\u001b[0m in \u001b[0;36m<module>\u001b[1;34m()\u001b[0m\n\u001b[0;32m    140\u001b[0m         \u001b[1;32mreturn\u001b[0m \u001b[0mloader\u001b[0m\u001b[1;33m(\u001b[0m\u001b[1;33m*\u001b[0m\u001b[0mpackages\u001b[0m\u001b[1;33m,\u001b[0m \u001b[1;33m**\u001b[0m\u001b[0moptions\u001b[0m\u001b[1;33m)\u001b[0m\u001b[1;33m\u001b[0m\u001b[0m\n\u001b[0;32m    141\u001b[0m \u001b[1;33m\u001b[0m\u001b[0m\n\u001b[1;32m--> 142\u001b[1;33m     \u001b[1;32mfrom\u001b[0m \u001b[1;33m.\u001b[0m \u001b[1;32mimport\u001b[0m \u001b[0madd_newdocs\u001b[0m\u001b[1;33m\u001b[0m\u001b[0m\n\u001b[0m\u001b[0;32m    143\u001b[0m     __all__ = ['add_newdocs',\n\u001b[0;32m    144\u001b[0m                \u001b[1;34m'ModuleDeprecationWarning'\u001b[0m\u001b[1;33m,\u001b[0m\u001b[1;33m\u001b[0m\u001b[0m\n",
      "\u001b[1;32mD:\\Anaconda3\\lib\\site-packages\\numpy\\add_newdocs.py\u001b[0m in \u001b[0;36m<module>\u001b[1;34m()\u001b[0m\n\u001b[0;32m     11\u001b[0m \u001b[1;32mfrom\u001b[0m \u001b[0m__future__\u001b[0m \u001b[1;32mimport\u001b[0m \u001b[0mdivision\u001b[0m\u001b[1;33m,\u001b[0m \u001b[0mabsolute_import\u001b[0m\u001b[1;33m,\u001b[0m \u001b[0mprint_function\u001b[0m\u001b[1;33m\u001b[0m\u001b[0m\n\u001b[0;32m     12\u001b[0m \u001b[1;33m\u001b[0m\u001b[0m\n\u001b[1;32m---> 13\u001b[1;33m \u001b[1;32mfrom\u001b[0m \u001b[0mnumpy\u001b[0m\u001b[1;33m.\u001b[0m\u001b[0mlib\u001b[0m \u001b[1;32mimport\u001b[0m \u001b[0madd_newdoc\u001b[0m\u001b[1;33m\u001b[0m\u001b[0m\n\u001b[0m\u001b[0;32m     14\u001b[0m \u001b[1;33m\u001b[0m\u001b[0m\n\u001b[0;32m     15\u001b[0m \u001b[1;31m###############################################################################\u001b[0m\u001b[1;33m\u001b[0m\u001b[1;33m\u001b[0m\u001b[0m\n",
      "\u001b[1;32mD:\\Anaconda3\\lib\\site-packages\\numpy\\lib\\__init__.py\u001b[0m in \u001b[0;36m<module>\u001b[1;34m()\u001b[0m\n\u001b[0;32m      6\u001b[0m \u001b[1;32mfrom\u001b[0m \u001b[0mnumpy\u001b[0m\u001b[1;33m.\u001b[0m\u001b[0mversion\u001b[0m \u001b[1;32mimport\u001b[0m \u001b[0mversion\u001b[0m \u001b[1;32mas\u001b[0m \u001b[0m__version__\u001b[0m\u001b[1;33m\u001b[0m\u001b[0m\n\u001b[0;32m      7\u001b[0m \u001b[1;33m\u001b[0m\u001b[0m\n\u001b[1;32m----> 8\u001b[1;33m \u001b[1;32mfrom\u001b[0m \u001b[1;33m.\u001b[0m\u001b[0mtype_check\u001b[0m \u001b[1;32mimport\u001b[0m \u001b[1;33m*\u001b[0m\u001b[1;33m\u001b[0m\u001b[0m\n\u001b[0m\u001b[0;32m      9\u001b[0m \u001b[1;32mfrom\u001b[0m \u001b[1;33m.\u001b[0m\u001b[0mindex_tricks\u001b[0m \u001b[1;32mimport\u001b[0m \u001b[1;33m*\u001b[0m\u001b[1;33m\u001b[0m\u001b[0m\n\u001b[0;32m     10\u001b[0m \u001b[1;32mfrom\u001b[0m \u001b[1;33m.\u001b[0m\u001b[0mfunction_base\u001b[0m \u001b[1;32mimport\u001b[0m \u001b[1;33m*\u001b[0m\u001b[1;33m\u001b[0m\u001b[0m\n",
      "\u001b[1;32mD:\\Anaconda3\\lib\\site-packages\\numpy\\lib\\type_check.py\u001b[0m in \u001b[0;36m<module>\u001b[1;34m()\u001b[0m\n\u001b[0;32m      9\u001b[0m            'common_type']\n\u001b[0;32m     10\u001b[0m \u001b[1;33m\u001b[0m\u001b[0m\n\u001b[1;32m---> 11\u001b[1;33m \u001b[1;32mimport\u001b[0m \u001b[0mnumpy\u001b[0m\u001b[1;33m.\u001b[0m\u001b[0mcore\u001b[0m\u001b[1;33m.\u001b[0m\u001b[0mnumeric\u001b[0m \u001b[1;32mas\u001b[0m \u001b[0m_nx\u001b[0m\u001b[1;33m\u001b[0m\u001b[0m\n\u001b[0m\u001b[0;32m     12\u001b[0m \u001b[1;32mfrom\u001b[0m \u001b[0mnumpy\u001b[0m\u001b[1;33m.\u001b[0m\u001b[0mcore\u001b[0m\u001b[1;33m.\u001b[0m\u001b[0mnumeric\u001b[0m \u001b[1;32mimport\u001b[0m \u001b[0masarray\u001b[0m\u001b[1;33m,\u001b[0m \u001b[0masanyarray\u001b[0m\u001b[1;33m,\u001b[0m \u001b[0marray\u001b[0m\u001b[1;33m,\u001b[0m \u001b[0misnan\u001b[0m\u001b[1;33m,\u001b[0m\u001b[0;31m \u001b[0m\u001b[0;31m\\\u001b[0m\u001b[1;33m\u001b[0m\u001b[0m\n\u001b[0;32m     13\u001b[0m                 \u001b[0mobj2sctype\u001b[0m\u001b[1;33m,\u001b[0m \u001b[0mzeros\u001b[0m\u001b[1;33m\u001b[0m\u001b[0m\n",
      "\u001b[1;32mD:\\Anaconda3\\lib\\site-packages\\numpy\\core\\__init__.py\u001b[0m in \u001b[0;36m<module>\u001b[1;34m()\u001b[0m\n\u001b[0;32m     22\u001b[0m files not under version control).  Otherwise reinstall numpy.\n\u001b[0;32m     23\u001b[0m \"\"\"\n\u001b[1;32m---> 24\u001b[1;33m     \u001b[1;32mraise\u001b[0m \u001b[0mImportError\u001b[0m\u001b[1;33m(\u001b[0m\u001b[0mmsg\u001b[0m\u001b[1;33m)\u001b[0m\u001b[1;33m\u001b[0m\u001b[0m\n\u001b[0m\u001b[0;32m     25\u001b[0m \u001b[1;33m\u001b[0m\u001b[0m\n\u001b[0;32m     26\u001b[0m \u001b[1;32mfor\u001b[0m \u001b[0menvkey\u001b[0m \u001b[1;32min\u001b[0m \u001b[0menv_added\u001b[0m\u001b[1;33m:\u001b[0m\u001b[1;33m\u001b[0m\u001b[0m\n",
      "\u001b[1;31mImportError\u001b[0m: \nImporting the multiarray numpy extension module failed.  Most\nlikely you are trying to import a failed build of numpy.\nIf you're working with a numpy git repo, try `git clean -xdf` (removes all\nfiles not under version control).  Otherwise reinstall numpy.\n"
     ]
    }
   ],
   "source": [
    "#Price Optimization\n",
    "from scipy.optimize import minimize\n",
    "# 三个回归系数\n",
    "b0=result1.params[0]\n",
    "b1=result1.params[1]\n",
    "b2=result1.params[2]\n",
    "def revenue(p):\n",
    "    \"\"\"This is the negative revenue function\"\"\"\n",
    "    return -np.exp(b0+b1*p[0]+b2*p[1])/(1+np.exp(b0+b1*p[0]+b2*p[1])*(p[0]-p[1]))\n",
    "init=[np.mean(df['amount']),np.mean(df['net amount'])]#initial condition\n",
    "# 用BFGS方法求revenue函数的最小值\n",
    "sol1=minimize(revenue, init, method=\"BFGS\",tol=0.001)\n",
    "print(sol1.success)\n",
    "print(sol1.x[0],sol1.x[1])\n",
    "print(np.mean(df['amount']),np.mean(df['discount']))"
   ]
  },
  {
   "cell_type": "code",
   "execution_count": 16,
   "metadata": {
    "colab": {
     "base_uri": "https://localhost:8080/"
    },
    "id": "qTQDnfwW2JDk",
    "outputId": "100e283d-c048-45f3-cdd2-314cce40298a"
   },
   "outputs": [
    {
     "name": "stdout",
     "output_type": "stream",
     "text": [
      "578072.2\n",
      "86986.3\n",
      "0.15 0.18\n"
     ]
    }
   ],
   "source": [
    "## Price Optimization\n",
    "from scipy.optimize import minimize_scalar\n",
    "b0=result1.params[0]\n",
    "b1=result1.params[1]\n",
    "b2=result1.params[2]\n",
    "#p=np.mean(df['amount'])\n",
    "\n",
    "d=np.mean(df['discount'])\n",
    "#I first optimize on the \"list price\"\n",
    "def revenueP(p):\n",
    "    \"\"\"This is the negative revenue function\"\"\"\n",
    "    return -np.exp(b0+b1*p+b2*d)/(1+np.exp(b0+b1*p+b2*d))*(p-d)\n",
    "sol1=minimize_scalar(revenueP)\n",
    "print(round(sol1.x,1))\n",
    "\n",
    "#then I optimize on the discount given the result of the first optimization#\n",
    "p=sol1.x\n",
    "def revenueD(d):\n",
    "    \"\"\"This is the negative revenue function\"\"\"\n",
    "    return -np.exp(b0+b1*p+b2*d)/(1+np.exp(b0+b1*p+b2*d))*(p-d)\n",
    "sol2=minimize_scalar(revenueD)\n",
    "\n",
    "print(round(sol2.x,1))\n",
    "#Below: Firt number is the \"optimal\" depth, i.e., discount/total amount. \n",
    "#       Second number is the \"empirical\" depth\n",
    "print(round(sol2.x/sol1.x,2),round(np.mean(df['discount'])/np.mean(df['amount']),2))"
   ]
  },
  {
   "cell_type": "markdown",
   "metadata": {
    "id": "yxDnJnNYpIom"
   },
   "source": [
    "# **Enriching the Intercept**"
   ]
  },
  {
   "cell_type": "code",
   "execution_count": 17,
   "metadata": {
    "colab": {
     "base_uri": "https://localhost:8080/"
    },
    "id": "6P3sAr7DqS3n",
    "outputId": "cae48e1a-7318-45cc-d0b1-8e82737787a5"
   },
   "outputs": [
    {
     "name": "stdout",
     "output_type": "stream",
     "text": [
      "Optimization terminated successfully.\n",
      "         Current function value: 0.456468\n",
      "         Iterations 8\n",
      "                           Logit Regression Results                           \n",
      "==============================================================================\n",
      "Dep. Variable:                      y   No. Observations:                 1455\n",
      "Model:                          Logit   Df Residuals:                     1448\n",
      "Method:                           MLE   Df Model:                            6\n",
      "Date:                Thu, 06 May 2021   Pseudo R-squ.:                  0.3048\n",
      "Time:                        20:40:25   Log-Likelihood:                -664.16\n",
      "converged:                       True   LL-Null:                       -955.34\n",
      "Covariance Type:            nonrobust   LLR p-value:                1.487e-122\n",
      "=================================================================================\n",
      "                    coef    std err          z      P>|z|      [0.025      0.975]\n",
      "---------------------------------------------------------------------------------\n",
      "discount       4.558e-05   5.31e-06      8.578      0.000    3.52e-05     5.6e-05\n",
      "amount        -2.466e-06   1.18e-06     -2.092      0.036   -4.78e-06   -1.55e-07\n",
      "New Logo          2.1261      0.150     14.146      0.000       1.832       2.421\n",
      "Partner cloud    -2.3804      0.237    -10.042      0.000      -2.845      -1.916\n",
      "Partner prem     -1.6666      0.135    -12.325      0.000      -1.932      -1.402\n",
      "Direct cloud     -3.1524      0.361     -8.734      0.000      -3.860      -2.445\n",
      "Direct prem      -2.5453      0.183    -13.947      0.000      -2.903      -2.188\n",
      "=================================================================================\n"
     ]
    }
   ],
   "source": [
    "y=df['y']\n",
    "x2=df[['discount','amount','New Logo','Partner cloud','Partner prem','Direct cloud','Direct prem']]\n",
    "model2 = sm.Logit(y, x2, missing='drop')\n",
    "model2.fit\n",
    "type(model2)\n",
    "result2=model2.fit()\n",
    "print(result2.summary())"
   ]
  },
  {
   "cell_type": "code",
   "execution_count": null,
   "metadata": {
    "colab": {
     "base_uri": "https://localhost:8080/"
    },
    "id": "lBCA2X_7onuD",
    "outputId": "652632fc-a074-4e45-e80b-b8176bdcaf24"
   },
   "outputs": [
    {
     "data": {
      "text/plain": [
       "0.37"
      ]
     },
     "execution_count": 71,
     "metadata": {
      "tags": []
     },
     "output_type": "execute_result"
    }
   ],
   "source": [
    "#Probability predicted by estimation: matrix multiplication on the x matrix with the vector of parameter estimates\n",
    "round(np.mean(np.exp(np.matmul(x2,result2.params))/(1+np.exp(np.matmul(x2,result2.params)))),2)"
   ]
  },
  {
   "cell_type": "markdown",
   "metadata": {
    "id": "bIjbIJFJ6urk"
   },
   "source": [
    "# Which discount for leads?"
   ]
  },
  {
   "cell_type": "code",
   "execution_count": 18,
   "metadata": {
    "colab": {
     "base_uri": "https://localhost:8080/"
    },
    "id": "1SsXpVlgHMeN",
    "outputId": "7e1ac4c5-128c-4d81-ac41-8891363acffc"
   },
   "outputs": [
    {
     "name": "stdout",
     "output_type": "stream",
     "text": [
      "30033.0 61740.0\n"
     ]
    }
   ],
   "source": [
    "#For customer ID=i, I compute the utility using x2 and the parameter estimates, I then optimize on the discount \n",
    "ID=10\n",
    "UT=np.matmul(x2.iloc[ID,1:7],result2.params[1:7])\n",
    "b=result2.params[0]\n",
    "p=x2.iloc[ID,1]\n",
    "def revenueD(d):\n",
    "    \"\"\"This is the negative revenue function\"\"\"\n",
    "    return -np.exp(UT+b*d)/(1+np.exp(UT+b*d))*(p-d)\n",
    "sol3=minimize_scalar(revenueD)\n",
    "#First argument is the optimal discount\n",
    "#Second argument is the actual discount\n",
    "print(round(sol3.x,0),round(x2.iloc[ID,0],0))"
   ]
  },
  {
   "cell_type": "code",
   "execution_count": 19,
   "metadata": {
    "colab": {
     "base_uri": "https://localhost:8080/"
    },
    "id": "-fb6ai67W29x",
    "outputId": "62434cf5-7db2-4636-8e9e-8113619efe6c"
   },
   "outputs": [
    {
     "name": "stdout",
     "output_type": "stream",
     "text": [
      "18214.0 14927.0\n"
     ]
    },
    {
     "data": {
      "text/plain": [
       "-22564.058088460235"
      ]
     },
     "execution_count": 19,
     "metadata": {
      "tags": []
     },
     "output_type": "execute_result"
    }
   ],
   "source": [
    "#Loop to optimize discounts for each individual leads\n",
    "ID=0\n",
    "ID_max=1505\n",
    "z=np.empty([ID_max,])\n",
    "while ID<=ID_max-1:\n",
    "  UT=np.matmul(x2.iloc[ID,1:7],result2.params[1:7])\n",
    "  b=result2.params[0]\n",
    "  p=x2.iloc[ID,1]\n",
    "  def revenueD(d):\n",
    "    \"\"\"This is the negative revenue function\"\"\"\n",
    "    return -np.exp(UT+b*d)/(1+np.exp(UT+b*d))*(p-d)\n",
    "  sol3=minimize_scalar(revenueD)\n",
    "  z[ID]=sol3.x\n",
    "  ID=ID+1\n",
    "print(round(np.mean(z),0),np.round(np.mean(df['discount']),0))\n",
    "np.min(z)#the minimum discount is negative, so you we need to change the code a bit to take care of this issue"
   ]
  },
  {
   "cell_type": "code",
   "execution_count": 20,
   "metadata": {
    "colab": {
     "base_uri": "https://localhost:8080/"
    },
    "id": "ShI4fnY4LJDF",
    "outputId": "f85c2b6c-7f24-4929-825a-658eec01d7a5"
   },
   "outputs": [
    {
     "name": "stdout",
     "output_type": "stream",
     "text": [
      "20246.0 14927.0\n"
     ]
    }
   ],
   "source": [
    "#Attempt to personalized pricing\n",
    "#### with sqrt(x^2) for discount\n",
    "ID=0\n",
    "ID_max=1505\n",
    "z=np.empty([ID_max,])\n",
    "while ID<=ID_max-1:\n",
    "  UT=np.matmul(x2.iloc[ID,1:7],result2.params[1:7])\n",
    "  b=result2.params[0]\n",
    "  p=x2.iloc[ID,1]\n",
    "  def revenueD(d):\n",
    "    \"\"\"This is the negative revenue function\"\"\"\n",
    "    return -np.exp(UT+b*np.sqrt(d**2))/(1+np.exp(UT+b*np.sqrt(d**2)))*(p-np.sqrt(d**2))\n",
    "  sol3=minimize_scalar(revenueD)\n",
    "  z[ID]=sol3.x\n",
    "  ID=ID+1\n",
    "print(round(np.mean(z),0),np.round(np.mean(df['discount']),0))\n",
    "#np.min(z)"
   ]
  },
  {
   "cell_type": "code",
   "execution_count": 21,
   "metadata": {
    "colab": {
     "base_uri": "https://localhost:8080/",
     "height": 285
    },
    "id": "ZD7XjbIuN3yi",
    "outputId": "5ae63581-9392-4550-8173-9e396de8bb88"
   },
   "outputs": [
    {
     "name": "stdout",
     "output_type": "stream",
     "text": [
      "0.19465198474015072 0.10541836604422394\n"
     ]
    },
    {
     "data": {
      "text/html": [
       "<div>\n",
       "<style scoped>\n",
       "    .dataframe tbody tr th:only-of-type {\n",
       "        vertical-align: middle;\n",
       "    }\n",
       "\n",
       "    .dataframe tbody tr th {\n",
       "        vertical-align: top;\n",
       "    }\n",
       "\n",
       "    .dataframe thead th {\n",
       "        text-align: right;\n",
       "    }\n",
       "</style>\n",
       "<table border=\"1\" class=\"dataframe\">\n",
       "  <thead>\n",
       "    <tr style=\"text-align: right;\">\n",
       "      <th></th>\n",
       "      <th>ID</th>\n",
       "      <th>New Logo</th>\n",
       "      <th>Partner cloud</th>\n",
       "      <th>Partner prem</th>\n",
       "      <th>Direct cloud</th>\n",
       "      <th>Direct prem</th>\n",
       "      <th>amount</th>\n",
       "      <th>net amount</th>\n",
       "      <th>discount</th>\n",
       "      <th>depth</th>\n",
       "      <th>y</th>\n",
       "      <th>const</th>\n",
       "      <th>optimal discount</th>\n",
       "    </tr>\n",
       "    <tr>\n",
       "      <th>Type</th>\n",
       "      <th></th>\n",
       "      <th></th>\n",
       "      <th></th>\n",
       "      <th></th>\n",
       "      <th></th>\n",
       "      <th></th>\n",
       "      <th></th>\n",
       "      <th></th>\n",
       "      <th></th>\n",
       "      <th></th>\n",
       "      <th></th>\n",
       "      <th></th>\n",
       "      <th></th>\n",
       "    </tr>\n",
       "  </thead>\n",
       "  <tbody>\n",
       "    <tr>\n",
       "      <th>Direct - Cloud Product</th>\n",
       "      <td>760.78</td>\n",
       "      <td>0.72</td>\n",
       "      <td>0.0</td>\n",
       "      <td>0.0</td>\n",
       "      <td>1.0</td>\n",
       "      <td>0.0</td>\n",
       "      <td>109213.25</td>\n",
       "      <td>87843.81</td>\n",
       "      <td>21369.45</td>\n",
       "      <td>0.16</td>\n",
       "      <td>0.32</td>\n",
       "      <td>1.0</td>\n",
       "      <td>37177.57</td>\n",
       "    </tr>\n",
       "    <tr>\n",
       "      <th>Direct - OnPremise Product</th>\n",
       "      <td>840.21</td>\n",
       "      <td>0.35</td>\n",
       "      <td>0.0</td>\n",
       "      <td>0.0</td>\n",
       "      <td>0.0</td>\n",
       "      <td>1.0</td>\n",
       "      <td>52366.70</td>\n",
       "      <td>44466.40</td>\n",
       "      <td>7900.30</td>\n",
       "      <td>0.06</td>\n",
       "      <td>0.21</td>\n",
       "      <td>1.0</td>\n",
       "      <td>14193.99</td>\n",
       "    </tr>\n",
       "    <tr>\n",
       "      <th>Partner - Cloud Product</th>\n",
       "      <td>627.31</td>\n",
       "      <td>0.77</td>\n",
       "      <td>1.0</td>\n",
       "      <td>0.0</td>\n",
       "      <td>0.0</td>\n",
       "      <td>0.0</td>\n",
       "      <td>152230.87</td>\n",
       "      <td>120068.63</td>\n",
       "      <td>32162.24</td>\n",
       "      <td>0.18</td>\n",
       "      <td>0.50</td>\n",
       "      <td>1.0</td>\n",
       "      <td>39843.60</td>\n",
       "    </tr>\n",
       "    <tr>\n",
       "      <th>Partner - OnPremise Product</th>\n",
       "      <td>746.90</td>\n",
       "      <td>0.41</td>\n",
       "      <td>0.0</td>\n",
       "      <td>1.0</td>\n",
       "      <td>0.0</td>\n",
       "      <td>0.0</td>\n",
       "      <td>75928.42</td>\n",
       "      <td>63234.93</td>\n",
       "      <td>12679.17</td>\n",
       "      <td>0.10</td>\n",
       "      <td>0.38</td>\n",
       "      <td>1.0</td>\n",
       "      <td>16191.89</td>\n",
       "    </tr>\n",
       "  </tbody>\n",
       "</table>\n",
       "</div>"
      ],
      "text/plain": [
       "                                 ID  New Logo  ...  const  optimal discount\n",
       "Type                                           ...                         \n",
       "Direct - Cloud Product       760.78      0.72  ...    1.0          37177.57\n",
       "Direct - OnPremise Product   840.21      0.35  ...    1.0          14193.99\n",
       "Partner - Cloud Product      627.31      0.77  ...    1.0          39843.60\n",
       "Partner - OnPremise Product  746.90      0.41  ...    1.0          16191.89\n",
       "\n",
       "[4 rows x 13 columns]"
      ]
     },
     "execution_count": 21,
     "metadata": {
      "tags": []
     },
     "output_type": "execute_result"
    }
   ],
   "source": [
    "print(np.mean(np.sqrt(z**2)/df['amount']),np.mean(df['discount']/df['amount']))\n",
    "df['optimal discount']=np.sqrt(z**2)\n",
    "round(df.groupby('Type').mean(),2)"
   ]
  },
  {
   "cell_type": "code",
   "execution_count": 22,
   "metadata": {
    "colab": {
     "base_uri": "https://localhost:8080/",
     "height": 285
    },
    "id": "gh1ndSpuYf6s",
    "outputId": "f8df21c8-4ab6-4f15-89ad-1fcc37077a63"
   },
   "outputs": [
    {
     "name": "stdout",
     "output_type": "stream",
     "text": [
      "0.19465198474015072 0.10541836604422394\n"
     ]
    },
    {
     "data": {
      "text/html": [
       "<div>\n",
       "<style scoped>\n",
       "    .dataframe tbody tr th:only-of-type {\n",
       "        vertical-align: middle;\n",
       "    }\n",
       "\n",
       "    .dataframe tbody tr th {\n",
       "        vertical-align: top;\n",
       "    }\n",
       "\n",
       "    .dataframe thead th {\n",
       "        text-align: right;\n",
       "    }\n",
       "</style>\n",
       "<table border=\"1\" class=\"dataframe\">\n",
       "  <thead>\n",
       "    <tr style=\"text-align: right;\">\n",
       "      <th></th>\n",
       "      <th>ID</th>\n",
       "      <th>New Logo</th>\n",
       "      <th>Partner cloud</th>\n",
       "      <th>Partner prem</th>\n",
       "      <th>Direct cloud</th>\n",
       "      <th>Direct prem</th>\n",
       "      <th>amount</th>\n",
       "      <th>net amount</th>\n",
       "      <th>discount</th>\n",
       "      <th>depth</th>\n",
       "      <th>y</th>\n",
       "      <th>const</th>\n",
       "      <th>optimal discount</th>\n",
       "    </tr>\n",
       "    <tr>\n",
       "      <th>Type</th>\n",
       "      <th></th>\n",
       "      <th></th>\n",
       "      <th></th>\n",
       "      <th></th>\n",
       "      <th></th>\n",
       "      <th></th>\n",
       "      <th></th>\n",
       "      <th></th>\n",
       "      <th></th>\n",
       "      <th></th>\n",
       "      <th></th>\n",
       "      <th></th>\n",
       "      <th></th>\n",
       "    </tr>\n",
       "  </thead>\n",
       "  <tbody>\n",
       "    <tr>\n",
       "      <th>Direct - Cloud Product</th>\n",
       "      <td>760.78</td>\n",
       "      <td>0.72</td>\n",
       "      <td>0.0</td>\n",
       "      <td>0.0</td>\n",
       "      <td>1.0</td>\n",
       "      <td>0.0</td>\n",
       "      <td>109213.25</td>\n",
       "      <td>87843.81</td>\n",
       "      <td>21369.45</td>\n",
       "      <td>0.16</td>\n",
       "      <td>0.32</td>\n",
       "      <td>1.0</td>\n",
       "      <td>37177.57</td>\n",
       "    </tr>\n",
       "    <tr>\n",
       "      <th>Direct - OnPremise Product</th>\n",
       "      <td>840.21</td>\n",
       "      <td>0.35</td>\n",
       "      <td>0.0</td>\n",
       "      <td>0.0</td>\n",
       "      <td>0.0</td>\n",
       "      <td>1.0</td>\n",
       "      <td>52366.70</td>\n",
       "      <td>44466.40</td>\n",
       "      <td>7900.30</td>\n",
       "      <td>0.06</td>\n",
       "      <td>0.21</td>\n",
       "      <td>1.0</td>\n",
       "      <td>14193.99</td>\n",
       "    </tr>\n",
       "    <tr>\n",
       "      <th>Partner - Cloud Product</th>\n",
       "      <td>627.31</td>\n",
       "      <td>0.77</td>\n",
       "      <td>1.0</td>\n",
       "      <td>0.0</td>\n",
       "      <td>0.0</td>\n",
       "      <td>0.0</td>\n",
       "      <td>152230.87</td>\n",
       "      <td>120068.63</td>\n",
       "      <td>32162.24</td>\n",
       "      <td>0.18</td>\n",
       "      <td>0.50</td>\n",
       "      <td>1.0</td>\n",
       "      <td>39843.60</td>\n",
       "    </tr>\n",
       "    <tr>\n",
       "      <th>Partner - OnPremise Product</th>\n",
       "      <td>746.90</td>\n",
       "      <td>0.41</td>\n",
       "      <td>0.0</td>\n",
       "      <td>1.0</td>\n",
       "      <td>0.0</td>\n",
       "      <td>0.0</td>\n",
       "      <td>75928.42</td>\n",
       "      <td>63234.93</td>\n",
       "      <td>12679.17</td>\n",
       "      <td>0.10</td>\n",
       "      <td>0.38</td>\n",
       "      <td>1.0</td>\n",
       "      <td>16191.89</td>\n",
       "    </tr>\n",
       "  </tbody>\n",
       "</table>\n",
       "</div>"
      ],
      "text/plain": [
       "                                 ID  New Logo  ...  const  optimal discount\n",
       "Type                                           ...                         \n",
       "Direct - Cloud Product       760.78      0.72  ...    1.0          37177.57\n",
       "Direct - OnPremise Product   840.21      0.35  ...    1.0          14193.99\n",
       "Partner - Cloud Product      627.31      0.77  ...    1.0          39843.60\n",
       "Partner - OnPremise Product  746.90      0.41  ...    1.0          16191.89\n",
       "\n",
       "[4 rows x 13 columns]"
      ]
     },
     "execution_count": 22,
     "metadata": {
      "tags": []
     },
     "output_type": "execute_result"
    }
   ],
   "source": [
    "print(np.mean(z/df['amount']),np.mean(df['discount']/df['amount']))\n",
    "df['optimal discount']=z\n",
    "round(df.groupby('Type').mean(),2)\n"
   ]
  },
  {
   "cell_type": "code",
   "execution_count": null,
   "metadata": {
    "id": "HJMwckqUYfGZ"
   },
   "outputs": [],
   "source": []
  },
  {
   "cell_type": "markdown",
   "metadata": {
    "id": "k5fw8IonQ6vH"
   },
   "source": [
    "# **Computation Revenue Improvement**\n",
    "[in expectation]"
   ]
  },
  {
   "cell_type": "code",
   "execution_count": 23,
   "metadata": {
    "id": "xxQCioZtQ6Ke"
   },
   "outputs": [],
   "source": [
    "#xS for x star\n",
    "#Here I compute the revenue improvement for each lead, one by one\n",
    "xS=df[['optimal discount','amount','New Logo','Partner cloud','Partner prem','Direct cloud','Direct prem']]\n",
    "ID=0\n",
    "ID_max=1505\n",
    "revOpt=np.empty([ID_max,])\n",
    "while ID<=ID_max-1:\n",
    "  j=0\n",
    "  u=0\n",
    "  while j<=6:\n",
    "    u=u+xS.iloc[ID][j]*result2.params[j]\n",
    "    j=j+1\n",
    "  proba=np.exp(u)/(1+np.exp(u))\n",
    "  revOpt[ID]=proba*(xS['amount'][ID]-z[ID])\n",
    "  ID=ID+1\n",
    "revOpt=np.nan_to_num(revOpt);"
   ]
  },
  {
   "cell_type": "code",
   "execution_count": 24,
   "metadata": {
    "colab": {
     "base_uri": "https://localhost:8080/"
    },
    "id": "rG4DXbsYZrMf",
    "outputId": "163b0032-db23-4c49-b9b2-ff45fd9c5751"
   },
   "outputs": [
    {
     "data": {
      "text/plain": [
       "1.5"
      ]
     },
     "execution_count": 24,
     "metadata": {
      "tags": []
     },
     "output_type": "execute_result"
    }
   ],
   "source": [
    "#Here I compute the overall revenue improvement as a ratio.\n",
    "df['Revenue']=np.where(df['Stage'] =='Won',df['net amount'] ,0.0)\n",
    "round(np.sum(revOpt)/np.sum(df['Revenue']),2)#This is the ratio of the optimized expected revenue / actual revenues"
   ]
  },
  {
   "cell_type": "code",
   "execution_count": 25,
   "metadata": {
    "colab": {
     "base_uri": "https://localhost:8080/",
     "height": 198
    },
    "id": "1crxNszIcee9",
    "outputId": "edf4f13b-b002-4eae-a3e4-0306453a9ba2"
   },
   "outputs": [
    {
     "data": {
      "text/html": [
       "<div>\n",
       "<style scoped>\n",
       "    .dataframe tbody tr th:only-of-type {\n",
       "        vertical-align: middle;\n",
       "    }\n",
       "\n",
       "    .dataframe tbody tr th {\n",
       "        vertical-align: top;\n",
       "    }\n",
       "\n",
       "    .dataframe thead th {\n",
       "        text-align: right;\n",
       "    }\n",
       "</style>\n",
       "<table border=\"1\" class=\"dataframe\">\n",
       "  <thead>\n",
       "    <tr style=\"text-align: right;\">\n",
       "      <th></th>\n",
       "      <th>discount</th>\n",
       "      <th>optimal discount</th>\n",
       "      <th>Revenue</th>\n",
       "      <th>Optimized Revenue</th>\n",
       "    </tr>\n",
       "    <tr>\n",
       "      <th>Type</th>\n",
       "      <th></th>\n",
       "      <th></th>\n",
       "      <th></th>\n",
       "      <th></th>\n",
       "    </tr>\n",
       "  </thead>\n",
       "  <tbody>\n",
       "    <tr>\n",
       "      <th>Direct - Cloud Product</th>\n",
       "      <td>21369.45</td>\n",
       "      <td>37177.57</td>\n",
       "      <td>22544.19</td>\n",
       "      <td>49626.07</td>\n",
       "    </tr>\n",
       "    <tr>\n",
       "      <th>Direct - OnPremise Product</th>\n",
       "      <td>7900.30</td>\n",
       "      <td>14193.99</td>\n",
       "      <td>12667.74</td>\n",
       "      <td>17542.94</td>\n",
       "    </tr>\n",
       "    <tr>\n",
       "      <th>Partner - Cloud Product</th>\n",
       "      <td>32162.24</td>\n",
       "      <td>39843.60</td>\n",
       "      <td>50066.54</td>\n",
       "      <td>90912.88</td>\n",
       "    </tr>\n",
       "    <tr>\n",
       "      <th>Partner - OnPremise Product</th>\n",
       "      <td>12679.17</td>\n",
       "      <td>16191.89</td>\n",
       "      <td>28546.51</td>\n",
       "      <td>37455.94</td>\n",
       "    </tr>\n",
       "  </tbody>\n",
       "</table>\n",
       "</div>"
      ],
      "text/plain": [
       "                             discount  ...  Optimized Revenue\n",
       "Type                                   ...                   \n",
       "Direct - Cloud Product       21369.45  ...           49626.07\n",
       "Direct - OnPremise Product    7900.30  ...           17542.94\n",
       "Partner - Cloud Product      32162.24  ...           90912.88\n",
       "Partner - OnPremise Product  12679.17  ...           37455.94\n",
       "\n",
       "[4 rows x 4 columns]"
      ]
     },
     "execution_count": 25,
     "metadata": {
      "tags": []
     },
     "output_type": "execute_result"
    }
   ],
   "source": [
    "# Here I display actual vs optimized\n",
    "df['Optimized Revenue']=revOpt#This adds a column in the dataframe with the optimized revenue\n",
    "dff=df[['Type','Stage','discount','optimal discount','Revenue','Optimized Revenue']]\n",
    "round(dff.groupby('Type').mean(),2)\n"
   ]
  },
  {
   "cell_type": "markdown",
   "metadata": {
    "id": "GGtY6XwG4V11"
   },
   "source": [
    "# Questions from the sales operations manager:\n",
    "\n",
    "\n",
    "\n",
    "*   Hypothesis: partner type opportunities have higher ACV, i.e., they sign more multi-year contracts compared to direct type leads. Is that true?\n",
    "*   Does partner opportunities (lead source) have different characteritics (higher ACV, higher close rates) than other opportunities?\n",
    "* Assume calendar quarters (e.g., Q1-Jan-March, etc), do we see differnt behaviors across quarters?\n",
    "* Is there a relationship between end of the quarter and key metrics, like discounts?\n",
    "\n",
    "\n",
    "\n",
    "\n",
    "\n"
   ]
  },
  {
   "cell_type": "markdown",
   "metadata": {
    "id": "4sa1acpNkyJh"
   },
   "source": [
    "# Scrap book\n",
    "\n",
    "https://towardsdatascience.com/building-a-logistic-regression-in-python-step-by-step-becd4d56c9c8"
   ]
  }
 ],
 "metadata": {
  "colab": {
   "collapsed_sections": [
    "4sa1acpNkyJh"
   ],
   "name": "2021_Lecture_6_B2B_Pricing.ipynb",
   "provenance": []
  },
  "kernelspec": {
   "name": "python36164bitvirtualenvbd5141994bff45589a416076f60a2258",
   "display_name": "Python 3.6.1 64-bit"
  },
  "language_info": {
   "codemirror_mode": {
    "name": "ipython",
    "version": 3
   },
   "file_extension": ".py",
   "mimetype": "text/x-python",
   "name": "python",
   "nbconvert_exporter": "python",
   "pygments_lexer": "ipython3",
   "version": "3.6.1"
  },
  "metadata": {
   "interpreter": {
    "hash": "a8f61be024eba58adef938c9aa1e29e02cb3dece83a5348b1a2dafd16a070453"
   }
  }
 },
 "nbformat": 4,
 "nbformat_minor": 1
}