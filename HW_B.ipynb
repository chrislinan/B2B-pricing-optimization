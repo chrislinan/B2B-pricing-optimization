{
 "cells": [
  {
   "cell_type": "code",
   "execution_count": 1,
   "metadata": {
    "id": "MRsqaUAYAYml"
   },
   "outputs": [],
   "source": [
    "import pandas as pd\n",
    "import numpy as np\n",
    "df = pd.read_csv('https://raw.githubusercontent.com/ormarketing/b2b/master/data.csv')"
   ]
  },
  {
   "cell_type": "code",
   "execution_count": 2,
   "metadata": {
    "colab": {
     "base_uri": "https://localhost:8080/"
    },
    "id": "ZX9-TK1xC1OC",
    "outputId": "5f92bb3a-f3ec-4c4b-f2eb-a0e3bc297689"
   },
   "outputs": [
    {
     "data": {
      "text/plain": [
       "array(['Closed Lost', 'Closed Won - Paid', 'Closed Won - Not Paid',\n",
       "       'Closed - Lost', 'Closed Lost - Not Renewing'], dtype=object)"
      ]
     },
     "execution_count": 2,
     "metadata": {
      "tags": []
     },
     "output_type": "execute_result"
    }
   ],
   "source": [
    "df.Stage.unique()"
   ]
  },
  {
   "cell_type": "code",
   "execution_count": 3,
   "metadata": {
    "id": "aWp5FSo_ECcr"
   },
   "outputs": [],
   "source": [
    "# Label rows: ['Closed Lost','Closed - Lost','Closed Lost - Not Renewing'] = 0, ['Closed Won - Not Paid','Closed Won - Paid'] = 1\n",
    "\n",
    "conditions = [\n",
    "  (df['Stage'] == 'Closed Lost'),\n",
    "  (df['Stage'] == 'Closed - Lost'),\n",
    "  (df['Stage'] == 'Closed Lost - Not Renewing'),\n",
    "  (df['Stage'] == 'Closed Won - Not Paid'),\n",
    "  (df['Stage'] == 'Closed Won - Paid')\n",
    "]\n",
    "values = [0,0,0,1,1]\n",
    "df['y'] = np.select(conditions, values)"
   ]
  },
  {
   "cell_type": "code",
   "execution_count": 4,
   "metadata": {
    "id": "8L8Uk78pMMyR"
   },
   "outputs": [],
   "source": [
    "# Drop emty rows\n",
    "df = df[df[' Net Amount '] != '       ']\n",
    "df = df[df[' Amount '] != '       ']"
   ]
  },
  {
   "cell_type": "code",
   "execution_count": 5,
   "metadata": {
    "id": "6aTrhGChLs51"
   },
   "outputs": [],
   "source": [
    "# Change data type to 'int'\n",
    "df[' Net Amount '] = df[' Net Amount '].astype(str).astype(int)\n",
    "df[' Amount '] = df[' Amount '].astype(str).astype(int)\n"
   ]
  },
  {
   "cell_type": "code",
   "execution_count": 6,
   "metadata": {
    "id": "znYkWXcJpZLo"
   },
   "outputs": [],
   "source": [
    "df['Discount'] = df[' Net Amount ']/df[' Amount ']"
   ]
  },
  {
   "cell_type": "code",
   "execution_count": 7,
   "metadata": {
    "colab": {
     "base_uri": "https://localhost:8080/"
    },
    "id": "bx1_QZrgNdqF",
    "outputId": "10dfa4e8-09ad-4741-e474-b31388cb61a6"
   },
   "outputs": [
    {
     "data": {
      "text/plain": [
       "1455"
      ]
     },
     "execution_count": 7,
     "metadata": {
      "tags": []
     },
     "output_type": "execute_result"
    }
   ],
   "source": [
    "len(df)"
   ]
  },
  {
   "cell_type": "code",
   "execution_count": 8,
   "metadata": {
    "colab": {
     "base_uri": "https://localhost:8080/",
     "height": 419
    },
    "id": "oKEiaInNphBw",
    "outputId": "5a874d0b-6b70-401c-e109-27ffe6fd3e85"
   },
   "outputs": [
    {
     "data": {
      "text/html": [
       "<div>\n",
       "<style scoped>\n",
       "    .dataframe tbody tr th:only-of-type {\n",
       "        vertical-align: middle;\n",
       "    }\n",
       "\n",
       "    .dataframe tbody tr th {\n",
       "        vertical-align: top;\n",
       "    }\n",
       "\n",
       "    .dataframe thead th {\n",
       "        text-align: right;\n",
       "    }\n",
       "</style>\n",
       "<table border=\"1\" class=\"dataframe\">\n",
       "  <thead>\n",
       "    <tr style=\"text-align: right;\">\n",
       "      <th></th>\n",
       "      <th>ID</th>\n",
       "      <th>Close Date</th>\n",
       "      <th>Created Date</th>\n",
       "      <th>New Logo</th>\n",
       "      <th>Type</th>\n",
       "      <th>Stage</th>\n",
       "      <th>Billing Plan</th>\n",
       "      <th>ACV</th>\n",
       "      <th>Discount Amount</th>\n",
       "      <th>Amount</th>\n",
       "      <th>Net Amount</th>\n",
       "      <th>y</th>\n",
       "      <th>Discount</th>\n",
       "    </tr>\n",
       "  </thead>\n",
       "  <tbody>\n",
       "    <tr>\n",
       "      <th>0</th>\n",
       "      <td>1</td>\n",
       "      <td>5/26/17</td>\n",
       "      <td>5/4/17</td>\n",
       "      <td>1</td>\n",
       "      <td>Direct - Cloud Product</td>\n",
       "      <td>Closed Lost</td>\n",
       "      <td>3 Years</td>\n",
       "      <td>431370</td>\n",
       "      <td></td>\n",
       "      <td>225000</td>\n",
       "      <td>225000</td>\n",
       "      <td>0</td>\n",
       "      <td>1.000000</td>\n",
       "    </tr>\n",
       "    <tr>\n",
       "      <th>1</th>\n",
       "      <td>2</td>\n",
       "      <td>12/29/16</td>\n",
       "      <td>11/29/16</td>\n",
       "      <td>1</td>\n",
       "      <td>Partner - OnPremise Product</td>\n",
       "      <td>Closed Won - Paid</td>\n",
       "      <td>3 Years</td>\n",
       "      <td>22050</td>\n",
       "      <td>80850</td>\n",
       "      <td>147000</td>\n",
       "      <td>66150</td>\n",
       "      <td>1</td>\n",
       "      <td>0.450000</td>\n",
       "    </tr>\n",
       "    <tr>\n",
       "      <th>2</th>\n",
       "      <td>3</td>\n",
       "      <td>12/29/16</td>\n",
       "      <td>12/9/16</td>\n",
       "      <td>1</td>\n",
       "      <td>Partner - Cloud Product</td>\n",
       "      <td>Closed Won - Paid</td>\n",
       "      <td>3 Years</td>\n",
       "      <td>32750</td>\n",
       "      <td>43200</td>\n",
       "      <td>96000</td>\n",
       "      <td>52800</td>\n",
       "      <td>1</td>\n",
       "      <td>0.550000</td>\n",
       "    </tr>\n",
       "    <tr>\n",
       "      <th>3</th>\n",
       "      <td>4</td>\n",
       "      <td>9/9/16</td>\n",
       "      <td>4/20/16</td>\n",
       "      <td>1</td>\n",
       "      <td>Direct - Cloud Product</td>\n",
       "      <td>Closed Won - Paid</td>\n",
       "      <td>4 Years</td>\n",
       "      <td>36694</td>\n",
       "      <td>44800</td>\n",
       "      <td>128000</td>\n",
       "      <td>83200</td>\n",
       "      <td>1</td>\n",
       "      <td>0.650000</td>\n",
       "    </tr>\n",
       "    <tr>\n",
       "      <th>4</th>\n",
       "      <td>5</td>\n",
       "      <td>9/22/16</td>\n",
       "      <td>9/1/16</td>\n",
       "      <td>1</td>\n",
       "      <td>Partner - OnPremise Product</td>\n",
       "      <td>Closed Won - Paid</td>\n",
       "      <td>3 Years</td>\n",
       "      <td>18700</td>\n",
       "      <td>9900</td>\n",
       "      <td>66000</td>\n",
       "      <td>56100</td>\n",
       "      <td>1</td>\n",
       "      <td>0.850000</td>\n",
       "    </tr>\n",
       "    <tr>\n",
       "      <th>...</th>\n",
       "      <td>...</td>\n",
       "      <td>...</td>\n",
       "      <td>...</td>\n",
       "      <td>...</td>\n",
       "      <td>...</td>\n",
       "      <td>...</td>\n",
       "      <td>...</td>\n",
       "      <td>...</td>\n",
       "      <td>...</td>\n",
       "      <td>...</td>\n",
       "      <td>...</td>\n",
       "      <td>...</td>\n",
       "      <td>...</td>\n",
       "    </tr>\n",
       "    <tr>\n",
       "      <th>1500</th>\n",
       "      <td>1501</td>\n",
       "      <td>2/4/16</td>\n",
       "      <td>9/17/15</td>\n",
       "      <td>0</td>\n",
       "      <td>Direct - OnPremise Product</td>\n",
       "      <td>Closed Lost</td>\n",
       "      <td>NaN</td>\n",
       "      <td>17900</td>\n",
       "      <td>NaN</td>\n",
       "      <td>17900</td>\n",
       "      <td>17900</td>\n",
       "      <td>0</td>\n",
       "      <td>1.000000</td>\n",
       "    </tr>\n",
       "    <tr>\n",
       "      <th>1501</th>\n",
       "      <td>1502</td>\n",
       "      <td>10/4/16</td>\n",
       "      <td>2/5/16</td>\n",
       "      <td>0</td>\n",
       "      <td>Partner - OnPremise Product</td>\n",
       "      <td>Closed Lost</td>\n",
       "      <td>NaN</td>\n",
       "      <td>60000</td>\n",
       "      <td>NaN</td>\n",
       "      <td>60000</td>\n",
       "      <td>60000</td>\n",
       "      <td>0</td>\n",
       "      <td>1.000000</td>\n",
       "    </tr>\n",
       "    <tr>\n",
       "      <th>1502</th>\n",
       "      <td>1503</td>\n",
       "      <td>11/4/16</td>\n",
       "      <td>9/21/16</td>\n",
       "      <td>0</td>\n",
       "      <td>Direct - OnPremise Product</td>\n",
       "      <td>Closed Lost</td>\n",
       "      <td>Annual</td>\n",
       "      <td>55000</td>\n",
       "      <td>20000</td>\n",
       "      <td>75000</td>\n",
       "      <td>55000</td>\n",
       "      <td>0</td>\n",
       "      <td>0.733333</td>\n",
       "    </tr>\n",
       "    <tr>\n",
       "      <th>1503</th>\n",
       "      <td>1504</td>\n",
       "      <td>9/6/17</td>\n",
       "      <td>5/24/17</td>\n",
       "      <td>1</td>\n",
       "      <td>Direct - OnPremise Product</td>\n",
       "      <td>Closed Lost</td>\n",
       "      <td>NaN</td>\n",
       "      <td>32000</td>\n",
       "      <td>NaN</td>\n",
       "      <td>32000</td>\n",
       "      <td>32000</td>\n",
       "      <td>0</td>\n",
       "      <td>1.000000</td>\n",
       "    </tr>\n",
       "    <tr>\n",
       "      <th>1504</th>\n",
       "      <td>1505</td>\n",
       "      <td>1/18/17</td>\n",
       "      <td>1/11/17</td>\n",
       "      <td>1</td>\n",
       "      <td>Partner - OnPremise Product</td>\n",
       "      <td>Closed Won - Paid</td>\n",
       "      <td>3 Years</td>\n",
       "      <td>20900</td>\n",
       "      <td>3300</td>\n",
       "      <td>66000</td>\n",
       "      <td>62700</td>\n",
       "      <td>1</td>\n",
       "      <td>0.950000</td>\n",
       "    </tr>\n",
       "  </tbody>\n",
       "</table>\n",
       "<p>1455 rows × 13 columns</p>\n",
       "</div>"
      ],
      "text/plain": [
       "        ID Close Date Created Date  ...   Net Amount   y  Discount\n",
       "0        1    5/26/17       5/4/17  ...        225000  0  1.000000\n",
       "1        2   12/29/16     11/29/16  ...         66150  1  0.450000\n",
       "2        3   12/29/16      12/9/16  ...         52800  1  0.550000\n",
       "3        4     9/9/16      4/20/16  ...         83200  1  0.650000\n",
       "4        5    9/22/16       9/1/16  ...         56100  1  0.850000\n",
       "...    ...        ...          ...  ...           ... ..       ...\n",
       "1500  1501     2/4/16      9/17/15  ...         17900  0  1.000000\n",
       "1501  1502    10/4/16       2/5/16  ...         60000  0  1.000000\n",
       "1502  1503    11/4/16      9/21/16  ...         55000  0  0.733333\n",
       "1503  1504     9/6/17      5/24/17  ...         32000  0  1.000000\n",
       "1504  1505    1/18/17      1/11/17  ...         62700  1  0.950000\n",
       "\n",
       "[1455 rows x 13 columns]"
      ]
     },
     "execution_count": 8,
     "metadata": {
      "tags": []
     },
     "output_type": "execute_result"
    }
   ],
   "source": [
    "df"
   ]
  },
  {
   "cell_type": "code",
   "execution_count": 9,
   "metadata": {
    "id": "X7XWNC0iVg8h"
   },
   "outputs": [],
   "source": [
    "dates = df['Close Date'].str.split(\"/\", n = 2, expand = True)\n",
    "df[\"Month\"] = dates[0]\n",
    "df[\"Date\"] = dates[1]\n",
    "df[\"Year\"] = dates[2]\n",
    "df['Month'] = df['Month'].astype(str).astype(int)\n",
    "df['Date'] = df['Date'].astype(str).astype(int)\n",
    "df['Year'] = df['Year'].astype(str).astype(int)"
   ]
  },
  {
   "cell_type": "code",
   "execution_count": 10,
   "metadata": {
    "id": "C9aFfUDxXq6E"
   },
   "outputs": [],
   "source": [
    "end_of_the_quarter = []\n",
    "Month = list(df['Month'])\n",
    "Date = list(df['Date'])"
   ]
  },
  {
   "cell_type": "code",
   "execution_count": 11,
   "metadata": {
    "id": "xwO-uBiKXq9Y"
   },
   "outputs": [],
   "source": [
    "for i in range(len(Month)):\n",
    "  if Month[i] == 3 and Date[i] >= 15:\n",
    "    end_of_the_quarter.append(1)\n",
    "  elif Month[i] == 6 and Date[i] >= 15:\n",
    "    end_of_the_quarter.append(1)\n",
    "  elif Month[i] == 9 and Date[i] >= 15:\n",
    "    end_of_the_quarter.append(1)\n",
    "  elif Month[i] == 12 and Date[i] >= 15:\n",
    "    end_of_the_quarter.append(1)\n",
    "  else:\n",
    "    end_of_the_quarter.append(0)\n"
   ]
  },
  {
   "cell_type": "code",
   "execution_count": 12,
   "metadata": {
    "id": "A8yvwnnZW3LP"
   },
   "outputs": [],
   "source": [
    "df['end_of_the_quarter'] = end_of_the_quarter"
   ]
  },
  {
   "cell_type": "code",
   "execution_count": 13,
   "metadata": {
    "colab": {
     "base_uri": "https://localhost:8080/"
    },
    "id": "kuNPUGlRGYzy",
    "outputId": "7aa417c1-ff93-4b6a-9bda-b7dc1b2ccfba"
   },
   "outputs": [
    {
     "data": {
      "text/plain": [
       "array(['3 Years', '4 Years', '2 Years', nan, 'Annual', '5 Years',\n",
       "       '3 Months', '9 Months', 'Quarterly'], dtype=object)"
      ]
     },
     "execution_count": 13,
     "metadata": {
      "tags": []
     },
     "output_type": "execute_result"
    }
   ],
   "source": [
    "df['Billing Plan'].unique()"
   ]
  },
  {
   "cell_type": "code",
   "execution_count": 14,
   "metadata": {
    "id": "X5weLv3ric_p"
   },
   "outputs": [],
   "source": [
    "# Split df\n",
    "#train = df.sample(frac = 0.8)\n",
    "#hold = df.drop(train.index)\n",
    "\n",
    "split_value = int(len(df) * 0.80)\n",
    "train = df[:split_value]\n",
    "hold = df[split_value:]"
   ]
  },
  {
   "cell_type": "code",
   "execution_count": 15,
   "metadata": {
    "id": "sjaWTCi9ILBB"
   },
   "outputs": [],
   "source": [
    "# train dataset\n",
    "train_x = pd.get_dummies(train[['New Logo','Type',' Net Amount ','end_of_the_quarter','Discount']], prefix=['Type'], dummy_na=True)\n",
    "train_y = train['y']"
   ]
  },
  {
   "cell_type": "code",
   "execution_count": 16,
   "metadata": {
    "id": "T9ECl9jRPmup"
   },
   "outputs": [],
   "source": [
    "# test dataset\n",
    "hold_x = pd.get_dummies(hold[['New Logo','Type',' Net Amount ','end_of_the_quarter','Discount']], prefix=['Type'], dummy_na=True)\n",
    "hold_y = hold['y']"
   ]
  },
  {
   "cell_type": "code",
   "execution_count": 17,
   "metadata": {
    "colab": {
     "base_uri": "https://localhost:8080/"
    },
    "id": "XnK6e8KzUMuC",
    "outputId": "077f3042-f4a5-41ab-a515-bb8caea7a99b"
   },
   "outputs": [
    {
     "data": {
      "text/plain": [
       "0.718213058419244"
      ]
     },
     "execution_count": 17,
     "metadata": {
      "tags": []
     },
     "output_type": "execute_result"
    }
   ],
   "source": [
    "from sklearn.linear_model import LogisticRegression\n",
    "from sklearn import metrics \n",
    "\n",
    "logistic_regression = LogisticRegression()\n",
    "logistic_regression.fit(train_x, train_y)\n",
    "pred_y = logistic_regression.predict(hold_x)\n",
    "\n",
    "accuracy = metrics.accuracy_score(hold_y, pred_y)\n",
    "accuracy\n"
   ]
  },
  {
   "cell_type": "code",
   "execution_count": 25,
   "metadata": {
    "colab": {
     "base_uri": "https://localhost:8080/"
    },
    "id": "iYK4gBuBgahc",
    "outputId": "2f5165a2-2546-41c7-8726-bad2df7f8b01"
   },
   "outputs": [
    {
     "name": "stdout",
     "output_type": "stream",
     "text": [
      "Accuracy: 0.8213058419243986\n"
     ]
    }
   ],
   "source": [
    "from sklearn.ensemble import RandomForestClassifier\n",
    "clf=RandomForestClassifier(n_estimators=100)\n",
    "clf.fit(train_x,train_y)\n",
    "y_un_optimized = clf.predict(hold_x)\n",
    "print(\"Accuracy:\",metrics.accuracy_score(hold_y, y_un_optimized))"
   ]
  },
  {
   "cell_type": "code",
   "execution_count": 36,
   "metadata": {
    "colab": {
     "base_uri": "https://localhost:8080/"
    },
    "id": "34tqnd10lYqh",
    "outputId": "9e3db8a3-b22d-477a-9e7b-afeee2574220"
   },
   "outputs": [
    {
     "name": "stdout",
     "output_type": "stream",
     "text": [
      "Un-optimized revenue: 4548153.0\n"
     ]
    }
   ],
   "source": [
    "un_optimized_revenue = sum(hold[\" Amount \"]*hold[\"Discount\"]*y_un_optimized)\n",
    "print(\"Un-optimized revenue:\", un_optimized_revenue)"
   ]
  },
  {
   "cell_type": "code",
   "execution_count": 37,
   "metadata": {
    "colab": {
     "base_uri": "https://localhost:8080/"
    },
    "id": "LlgXMP1nyhRd",
    "outputId": "a3ab26d8-eef8-4114-a25b-1a0896f7088c"
   },
   "outputs": [
    {
     "name": "stdout",
     "output_type": "stream",
     "text": [
      "No-discount revenue: 4296059.0\n"
     ]
    }
   ],
   "source": [
    "hold_x_no_discount = pd.get_dummies(hold[['New Logo','Type',' Amount ','end_of_the_quarter','Discount']], prefix=['Type'], dummy_na=True)\n",
    "y_no_discount = clf.predict(hold_x_no_discount)\n",
    "no_discount_revenue = sum(hold[\" Amount \"]*hold[\"Discount\"]*y_no_discount)\n",
    "print(\"No-discount revenue:\",no_discount_revenue)"
   ]
  },
  {
   "cell_type": "code",
   "execution_count": 22,
   "metadata": {
    "colab": {
     "base_uri": "https://localhost:8080/"
    },
    "id": "Eg1T13cgtBD7",
    "outputId": "294a6b51-5123-48c9-bf2a-b95eee821878"
   },
   "outputs": [
    {
     "data": {
      "text/plain": [
       "4027782.0"
      ]
     },
     "execution_count": 22,
     "metadata": {
      "tags": []
     },
     "output_type": "execute_result"
    }
   ],
   "source": [
    "sum(hold[\" Amount \"]*hold[\"Discount\"]*hold['y'])"
   ]
  },
  {
   "cell_type": "code",
   "execution_count": 23,
   "metadata": {
    "colab": {
     "base_uri": "https://localhost:8080/"
    },
    "id": "h5VGP6JxnhuV",
    "outputId": "c9c345e9-54cb-4097-d032-90ed81252737"
   },
   "outputs": [
    {
     "data": {
      "text/plain": [
       "array(['Direct - OnPremise Product', 'Partner - OnPremise Product',\n",
       "       'Direct - Cloud Product', 'Partner - Cloud Product'], dtype=object)"
      ]
     },
     "execution_count": 23,
     "metadata": {
      "tags": []
     },
     "output_type": "execute_result"
    }
   ],
   "source": [
    "hold['Type'].unique()"
   ]
  },
  {
   "cell_type": "code",
   "execution_count": 24,
   "metadata": {
    "colab": {
     "base_uri": "https://localhost:8080/"
    },
    "id": "q12nzQeyn91l",
    "outputId": "5f52acdc-cc95-45ba-b4d6-357d7d921e45"
   },
   "outputs": [
    {
     "data": {
      "text/plain": [
       "New Logo                              int64\n",
       " Net Amount                           int64\n",
       "end_of_the_quarter                    int64\n",
       "Discount                            float64\n",
       "Type_Direct - Cloud Product           uint8\n",
       "Type_Direct - OnPremise Product       uint8\n",
       "Type_Partner - Cloud Product          uint8\n",
       "Type_Partner - OnPremise Product      uint8\n",
       "Type_nan                              uint8\n",
       "dtype: object"
      ]
     },
     "execution_count": 24,
     "metadata": {
      "tags": []
     },
     "output_type": "execute_result"
    }
   ],
   "source": [
    "train_x.dtypes"
   ]
  },
  {
   "cell_type": "code",
   "execution_count": 24,
   "metadata": {
    "id": "-1vETDIEurFq"
   },
   "outputs": [],
   "source": []
  }
 ],
 "metadata": {
  "colab": {
   "name": "HW-B.ipynb",
   "provenance": []
  },
  "kernelspec": {
   "display_name": "Python 3",
   "language": "python",
   "name": "python3"
  },
  "language_info": {
   "codemirror_mode": {
    "name": "ipython",
    "version": 3
   },
   "file_extension": ".py",
   "mimetype": "text/x-python",
   "name": "python",
   "nbconvert_exporter": "python",
   "pygments_lexer": "ipython3",
   "version": "3.8.5"
  }
 },
 "nbformat": 4,
 "nbformat_minor": 1
}
